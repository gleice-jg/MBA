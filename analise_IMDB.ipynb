{
 "cells": [
  {
   "cell_type": "markdown",
   "id": "0a64f446",
   "metadata": {},
   "source": [
    "# Análise de Sentimentos dos Comentários da IMDb\n",
    "por Gleice Garcia\n",
    "<hr>\n",
    "\n",
    "### Etapas\n",
    "<ol type=\"1\">\n",
    "    <li>Importação dos Dados (50K IMDB Movie Review)</li>\n",
    "    <li>Limpeza e Pré processamento dos Dados</li>\n",
    "    <li>Divisão em Treino e Teste</li>\n",
    "    <li>Tokenize e Pad/Truncate</li>\n",
    "    <li>Construção do Modelo</li>\n",
    "    <li>Treino e Teste</li>\n",
    "</ol>\n",
    "\n",
    "<hr>"
   ]
  },
  {
   "cell_type": "code",
   "execution_count": 16,
   "id": "419bad59",
   "metadata": {},
   "outputs": [],
   "source": [
    "import pandas as pd    \n",
    "import numpy as np     \n",
    "from nltk.corpus import stopwords  \n",
    "from sklearn.model_selection import train_test_split       \n",
    "from tensorflow.keras.preprocessing.text import Tokenizer \n",
    "from tensorflow.keras.preprocessing.sequence import pad_sequences   \n",
    "from tensorflow.keras.models import Sequential     \n",
    "from tensorflow.keras.layers import Embedding, LSTM, Dense \n",
    "from tensorflow.keras.callbacks import ModelCheckpoint   \n",
    "from tensorflow.keras.models import load_model  \n",
    "import re\n",
    "import matplotlib.pyplot as plt"
   ]
  },
  {
   "cell_type": "code",
   "execution_count": 17,
   "id": "d5ea1310",
   "metadata": {},
   "outputs": [
    {
     "data": {
      "text/html": [
       "<div>\n",
       "<style scoped>\n",
       "    .dataframe tbody tr th:only-of-type {\n",
       "        vertical-align: middle;\n",
       "    }\n",
       "\n",
       "    .dataframe tbody tr th {\n",
       "        vertical-align: top;\n",
       "    }\n",
       "\n",
       "    .dataframe thead th {\n",
       "        text-align: right;\n",
       "    }\n",
       "</style>\n",
       "<table border=\"1\" class=\"dataframe\">\n",
       "  <thead>\n",
       "    <tr style=\"text-align: right;\">\n",
       "      <th></th>\n",
       "      <th>review</th>\n",
       "      <th>sentiment</th>\n",
       "    </tr>\n",
       "  </thead>\n",
       "  <tbody>\n",
       "    <tr>\n",
       "      <th>0</th>\n",
       "      <td>One of the other reviewers has mentioned that ...</td>\n",
       "      <td>positive</td>\n",
       "    </tr>\n",
       "    <tr>\n",
       "      <th>1</th>\n",
       "      <td>A wonderful little production. &lt;br /&gt;&lt;br /&gt;The...</td>\n",
       "      <td>positive</td>\n",
       "    </tr>\n",
       "    <tr>\n",
       "      <th>2</th>\n",
       "      <td>I thought this was a wonderful way to spend ti...</td>\n",
       "      <td>positive</td>\n",
       "    </tr>\n",
       "    <tr>\n",
       "      <th>3</th>\n",
       "      <td>Basically there's a family where a little boy ...</td>\n",
       "      <td>negative</td>\n",
       "    </tr>\n",
       "    <tr>\n",
       "      <th>4</th>\n",
       "      <td>Petter Mattei's \"Love in the Time of Money\" is...</td>\n",
       "      <td>positive</td>\n",
       "    </tr>\n",
       "  </tbody>\n",
       "</table>\n",
       "</div>"
      ],
      "text/plain": [
       "                                              review sentiment\n",
       "0  One of the other reviewers has mentioned that ...  positive\n",
       "1  A wonderful little production. <br /><br />The...  positive\n",
       "2  I thought this was a wonderful way to spend ti...  positive\n",
       "3  Basically there's a family where a little boy ...  negative\n",
       "4  Petter Mattei's \"Love in the Time of Money\" is...  positive"
      ]
     },
     "execution_count": 17,
     "metadata": {},
     "output_type": "execute_result"
    }
   ],
   "source": [
    "df_imdb = pd.read_csv('IMDB Dataset.csv')\n",
    "df_imdb.head()"
   ]
  },
  {
   "cell_type": "code",
   "execution_count": 18,
   "id": "370c7fd0",
   "metadata": {},
   "outputs": [
    {
     "data": {
      "text/plain": [
       "(50000, 2)"
      ]
     },
     "execution_count": 18,
     "metadata": {},
     "output_type": "execute_result"
    }
   ],
   "source": [
    "df_imdb.shape"
   ]
  },
  {
   "cell_type": "code",
   "execution_count": 19,
   "id": "32875f72",
   "metadata": {},
   "outputs": [
    {
     "data": {
      "text/html": [
       "<div>\n",
       "<style scoped>\n",
       "    .dataframe tbody tr th:only-of-type {\n",
       "        vertical-align: middle;\n",
       "    }\n",
       "\n",
       "    .dataframe tbody tr th {\n",
       "        vertical-align: top;\n",
       "    }\n",
       "\n",
       "    .dataframe thead th {\n",
       "        text-align: right;\n",
       "    }\n",
       "</style>\n",
       "<table border=\"1\" class=\"dataframe\">\n",
       "  <thead>\n",
       "    <tr style=\"text-align: right;\">\n",
       "      <th></th>\n",
       "      <th>review</th>\n",
       "      <th>sentiment</th>\n",
       "    </tr>\n",
       "  </thead>\n",
       "  <tbody>\n",
       "    <tr>\n",
       "      <th>0</th>\n",
       "      <td>One of the other reviewers has mentioned that ...</td>\n",
       "      <td>positive</td>\n",
       "    </tr>\n",
       "    <tr>\n",
       "      <th>1</th>\n",
       "      <td>A wonderful little production. &lt;br /&gt;&lt;br /&gt;The...</td>\n",
       "      <td>positive</td>\n",
       "    </tr>\n",
       "    <tr>\n",
       "      <th>2</th>\n",
       "      <td>I thought this was a wonderful way to spend ti...</td>\n",
       "      <td>positive</td>\n",
       "    </tr>\n",
       "    <tr>\n",
       "      <th>3</th>\n",
       "      <td>Basically there's a family where a little boy ...</td>\n",
       "      <td>negative</td>\n",
       "    </tr>\n",
       "    <tr>\n",
       "      <th>4</th>\n",
       "      <td>Petter Mattei's \"Love in the Time of Money\" is...</td>\n",
       "      <td>positive</td>\n",
       "    </tr>\n",
       "    <tr>\n",
       "      <th>5</th>\n",
       "      <td>Probably my all-time favorite movie, a story o...</td>\n",
       "      <td>positive</td>\n",
       "    </tr>\n",
       "    <tr>\n",
       "      <th>6</th>\n",
       "      <td>I sure would like to see a resurrection of a u...</td>\n",
       "      <td>positive</td>\n",
       "    </tr>\n",
       "    <tr>\n",
       "      <th>7</th>\n",
       "      <td>This show was an amazing, fresh &amp; innovative i...</td>\n",
       "      <td>negative</td>\n",
       "    </tr>\n",
       "    <tr>\n",
       "      <th>8</th>\n",
       "      <td>Encouraged by the positive comments about this...</td>\n",
       "      <td>negative</td>\n",
       "    </tr>\n",
       "    <tr>\n",
       "      <th>9</th>\n",
       "      <td>If you like original gut wrenching laughter yo...</td>\n",
       "      <td>positive</td>\n",
       "    </tr>\n",
       "  </tbody>\n",
       "</table>\n",
       "</div>"
      ],
      "text/plain": [
       "                                              review sentiment\n",
       "0  One of the other reviewers has mentioned that ...  positive\n",
       "1  A wonderful little production. <br /><br />The...  positive\n",
       "2  I thought this was a wonderful way to spend ti...  positive\n",
       "3  Basically there's a family where a little boy ...  negative\n",
       "4  Petter Mattei's \"Love in the Time of Money\" is...  positive\n",
       "5  Probably my all-time favorite movie, a story o...  positive\n",
       "6  I sure would like to see a resurrection of a u...  positive\n",
       "7  This show was an amazing, fresh & innovative i...  negative\n",
       "8  Encouraged by the positive comments about this...  negative\n",
       "9  If you like original gut wrenching laughter yo...  positive"
      ]
     },
     "execution_count": 19,
     "metadata": {},
     "output_type": "execute_result"
    }
   ],
   "source": [
    "df_imdb.head(10)"
   ]
  },
  {
   "cell_type": "code",
   "execution_count": 25,
   "id": "6e9bdeb9",
   "metadata": {},
   "outputs": [
    {
     "data": {
      "text/plain": [
       "<AxesSubplot:>"
      ]
     },
     "execution_count": 25,
     "metadata": {},
     "output_type": "execute_result"
    },
    {
     "data": {
      "image/png": "[encoded data removed]",
      "text/plain": [
       "<Figure size 432x288 with 1 Axes>"
      ]
     },
     "metadata": {
      "needs_background": "light"
     },
     "output_type": "display_data"
    }
   ],
   "source": [
    "df_imdb['sentiment'].value_counts().plot(kind = 'bar')"
   ]
  },
  {
   "cell_type": "markdown",
   "id": "e1d2c6f4",
   "metadata": {},
   "source": [
    "<hr>\n",
    "\n",
    "### Limpeza e Pré processamento dos Dados\n",
    "\n",
    "Antes da divisão dos dados em treino e teste e da construção do modelo, é fundamental que seja feito um tratamento para remover tags html, pontuações, caracteres não alfanuméricos e palavras 'stopwords'. Além disso, é importante que seja atribuído um valor para os sentimentos positivos e negativos. Neste caso 1 e 0, respectivamente."
   ]
  },
  {
   "cell_type": "code",
   "execution_count": 26,
   "id": "07e9e287",
   "metadata": {},
   "outputs": [],
   "source": [
    "# Importa o conjunto de stopwords em inglês \n",
    "eng_stops = set(stopwords.words('english'))"
   ]
  },
  {
   "cell_type": "code",
   "execution_count": 27,
   "id": "7fa4b4dc",
   "metadata": {},
   "outputs": [],
   "source": [
    "df = pd.read_csv('IMDB Dataset.csv')\n",
    "x_data = df['review']       # Reviews/Input\n",
    "y_data = df['sentiment']    # Sentiment/Output\n",
    "\n",
    "# Tratamento do texto\n",
    "x_data = x_data.replace({'<.*?>': ''}, regex = True)          # remove tags html \n",
    "x_data = x_data.replace({'[^A-Za-z]': ' '}, regex = True)     # remove caracteres especiais\n",
    "x_data = x_data.apply(lambda review: [w for w in review.split() if w not in eng_stops])  # remove as stopwords\n",
    "x_data = x_data.apply(lambda review: [w.lower() for w in review])   # converte para letra maiuscula "
   ]
  },
  {
   "cell_type": "code",
   "execution_count": 28,
   "id": "3519ab1d",
   "metadata": {},
   "outputs": [],
   "source": [
    "# Codificação do sentimento (positivo e negativo)\n",
    "y_data = y_data.replace('positive', 1)\n",
    "y_data = y_data.replace('negative', 0)"
   ]
  },
  {
   "cell_type": "markdown",
   "id": "6dbadcb6",
   "metadata": {},
   "source": [
    "<hr>\n",
    "\n",
    "### Divisão em Treino e Teste\n",
    "Os dados são divididos 80% em treino e 20% em teste através da função train_test_split(). Essa função embaralha os dados no momento em que separa os dados em dois conjuntos e isso é importante porque no conjunto de dados origina as avaliações e os sentimentos estão em ordem, primeiro avaliações positivas e depois as negativas. Isso garante que os dados serão distribuídos igualmente no modelo, trazendo maior precisão para as previsões."
   ]
  },
  {
   "cell_type": "code",
   "execution_count": 29,
   "id": "7ee5749a",
   "metadata": {},
   "outputs": [
    {
     "name": "stdout",
     "output_type": "stream",
     "text": [
      "Conjunto de Treino\n",
      "11442    [show, one, worst, shows, all, time, absolutel...\n",
      "23025    [as, much, movie, good, nothing, say, said, al...\n",
      "4576     [i, see, lot, people, liked, movie, to, movie,...\n",
      "6018     [this, almost, action, less, film, following, ...\n",
      "32608    [this, movie, right, bad, i, love, war, movies...\n",
      "                               ...                        \n",
      "34457    [some, people, thought, funny, loved, politica...\n",
      "12626    [the, waterdance, the, main, character, the, w...\n",
      "37444    [every, sunday, eleven, minute, short, subject...\n",
      "18413    [give, movie, break, its, worth, least, that, ...\n",
      "23355    [i, big, fan, first, critters, movie, the, sec...\n",
      "Name: review, Length: 40000, dtype: object \n",
      "\n",
      "Conjunto de Teste\n",
      "34210    [edward, furlong, christina, ricci, excellent,...\n",
      "10145    [i, would, hesitate, put, adaptation, death, t...\n",
      "28098    [i, feel, sorry, people, go, movies, pad, penc...\n",
      "37095    [this, movie, crappy, beyond, limits, it, incr...\n",
      "6937     [i, rented, domino, whim, even, knowing, inspi...\n",
      "                               ...                        \n",
      "10384    [possible, spoilers, i, recently, watched, mov...\n",
      "13257    [now, i, realize, people, trash, young, warrio...\n",
      "47000    [what, piece, junk, movie, the, premise, okay,...\n",
      "26448    [while, special, effects, technical, attribute...\n",
      "37169    [i, agree, one, commentator, says, really, imp...\n",
      "Name: review, Length: 10000, dtype: object \n",
      "\n",
      "Conjunto de Treino\n",
      "11442    0\n",
      "23025    1\n",
      "4576     0\n",
      "6018     1\n",
      "32608    0\n",
      "        ..\n",
      "34457    0\n",
      "12626    0\n",
      "37444    1\n",
      "18413    1\n",
      "23355    0\n",
      "Name: sentiment, Length: 40000, dtype: int64 \n",
      "\n",
      "Conjunto de Teste\n",
      "34210    1\n",
      "10145    1\n",
      "28098    1\n",
      "37095    0\n",
      "6937     1\n",
      "        ..\n",
      "10384    1\n",
      "13257    1\n",
      "47000    0\n",
      "26448    1\n",
      "37169    0\n",
      "Name: sentiment, Length: 10000, dtype: int64\n"
     ]
    }
   ],
   "source": [
    "x_treino, x_teste, y_treino, y_teste = train_test_split(x_data, y_data, test_size = 0.2)\n",
    "\n",
    "print('Conjunto de Treino')\n",
    "print(x_treino, '\\n')\n",
    "print('Conjunto de Teste')\n",
    "print(x_teste, '\\n')\n",
    "print('Conjunto de Treino')\n",
    "print(y_treino, '\\n')\n",
    "print('Conjunto de Teste')\n",
    "print(y_teste)"
   ]
  },
  {
   "cell_type": "markdown",
   "id": "05c28bd1",
   "metadata": {},
   "source": [
    "<hr>\n",
    "\n",
    "### Tokenize, Pad/Truncate \n",
    "Após a divisão dos dados em conjuntos de treinamento e teste, é necessário transformar os comentários em dados númericos inteiros. \n",
    "Além disso, pelos comentários terem comprimentos diferentes foi preciso fazer um preenchimento com zeros, para que ficassem todas com o mesmo tamanho."
   ]
  },
  {
   "cell_type": "code",
   "execution_count": 30,
   "id": "15906aba",
   "metadata": {},
   "outputs": [],
   "source": [
    "# função para encontrar o comprimento máximo das resenhas pela média de comprimento geral.\n",
    "def maior_tamanho():\n",
    "    comprimento = []\n",
    "    for review in x_treino:\n",
    "        comprimento.append(len(review))\n",
    "\n",
    "    return int(np.ceil(np.mean(comprimento)))"
   ]
  },
  {
   "cell_type": "code",
   "execution_count": 31,
   "id": "64c87110",
   "metadata": {},
   "outputs": [],
   "source": [
    "token = Tokenizer(lower=False)   \n",
    "token.fit_on_texts(x_treino)\n",
    "x_treino = token.texts_to_sequences(x_treino)\n",
    "x_teste = token.texts_to_sequences(x_teste)"
   ]
  },
  {
   "cell_type": "code",
   "execution_count": 32,
   "id": "9c48f460",
   "metadata": {},
   "outputs": [
    {
     "name": "stdout",
     "output_type": "stream",
     "text": [
      "Encoded X Train\n",
      " [[  45    5  155 ...    0    0    0]\n",
      " [ 110   17    3 ...    0    0    0]\n",
      " [   1   15   82 ...  310 1491  829]\n",
      " ...\n",
      " [  83 2735 5737 ...    0    0    0]\n",
      " [ 105    3  907 ...    0    0    0]\n",
      " [   1  101  231 ...    0    0    0]] \n",
      "\n",
      "Encoded X Test\n",
      " [[ 2364 18222  5255 ...     0     0     0]\n",
      " [    1    12  7256 ...   117  2493    68]\n",
      " [    1   134   666 ...     0     0     0]\n",
      " ...\n",
      " [  106   318  2459 ...     0     0     0]\n",
      " [  374   212   194 ...     0     0     0]\n",
      " [    1   940     5 ... 36316  6615  2054]] \n",
      "\n",
      "Maximum review length:  130\n"
     ]
    }
   ],
   "source": [
    "max_len = maior_tamanho()\n",
    "\n",
    "x_treino = pad_sequences(x_treino, maxlen=max_len, padding='post', truncating='post')\n",
    "x_teste = pad_sequences(x_teste, maxlen=max_len, padding='post', truncating='post')\n",
    "\n",
    "total_palavras = len(token.word_index) + 1\n",
    "\n",
    "print('Encoded X Train\\n', x_treino, '\\n')\n",
    "print('Encoded X Test\\n', x_teste, '\\n')\n",
    "print('Maximum review length: ', max_len)"
   ]
  },
  {
   "cell_type": "markdown",
   "id": "57e40766",
   "metadata": {},
   "source": [
    "<hr>\n",
    "\n",
    "### Construção do Modelo\n",
    "\n",
    "**Camada embedding**: Utilizada para vetorizar o texto. O embedding de palavras faz a representação na qual, por meio de um agrupamento, palavras semelhantes têm codificação semelhante. Os valores para o embedding são parâmetros treináveis (pesos aprendidos durante o treinamento, da mesma maneira que um modelo aprende pesos para uma camada densa). \n",
    "\n",
    "**Camada LSTM** : tem a capacidade tanto de lembrar quanto de esquecer\n",
    "o estado anterior quando essa informação não for mais necessária. Seus componentes são: \n",
    "\n",
    "**Forget Gate** : decide qual informação manter ou esquecer;\n",
    "\n",
    "**Input Gate** : adição de informações úteis ao estado da célula (blocos de memória) passando a saída anterior e a entrada atual na função de ativação sigmóide. Os valores do vetor e os valores regulados são multiplicados para obter as informações úteis.\n",
    "\n",
    "**Output Gate** : extrair informações úteis do estado da célula atual para ser apresentadas como uma saída\n",
    "\n",
    "**Camada Densa** : calcula a entrada com a matriz de peso e bias (opcional), e usando uma função de ativação.\n",
    "\n",
    "Foi utilizado o otimizador Adam e a função de custo Binary Crossentropy já que a saída é binária.\n"
   ]
  },
  {
   "cell_type": "code",
   "execution_count": 33,
   "id": "10825e7f",
   "metadata": {},
   "outputs": [
    {
     "name": "stdout",
     "output_type": "stream",
     "text": [
      "Model: \"sequential\"\n",
      "_________________________________________________________________\n",
      " Layer (type)                Output Shape              Param #   \n",
      "=================================================================\n",
      " embedding (Embedding)       (None, 130, 32)           2958560   \n",
      "                                                                 \n",
      " lstm (LSTM)                 (None, 64)                24832     \n",
      "                                                                 \n",
      " dense (Dense)               (None, 1)                 65        \n",
      "                                                                 \n",
      "=================================================================\n",
      "Total params: 2,983,457\n",
      "Trainable params: 2,983,457\n",
      "Non-trainable params: 0\n",
      "_________________________________________________________________\n",
      "None\n"
     ]
    }
   ],
   "source": [
    "emb_dim = 32 # o comprimento do vetor é um parâmetro. Números menores são ideais para conjuntos menores.\n",
    "lstm_out = 64\n",
    "\n",
    "model = Sequential()\n",
    "model.add(Embedding(total_palavras, emb_dim, input_length = max_len))\n",
    "model.add(LSTM(lstm_out))\n",
    "model.add(Dense(1, activation='sigmoid'))\n",
    "model.compile(optimizer = 'adam', loss = 'binary_crossentropy', metrics = ['accuracy'])\n",
    "\n",
    "print(model.summary())"
   ]
  },
  {
   "cell_type": "markdown",
   "id": "7ca74df7",
   "metadata": {},
   "source": [
    "<hr>\n",
    "\n",
    "### Treino\n",
    "\n",
    "O treino consiste em ajustar os dados de entrada (x_treino) e de saída/rótulo (y_treino). Para isso foi utilizado o método de aprendizado de mini-batch com batch_size de 128 e 5 épocas.\n",
    "\n",
    "Foi adicionado um checkpoint para salvar o modelo localmente para cada época se sua precisão melhorar em relação a anterior."
   ]
  },
  {
   "cell_type": "code",
   "execution_count": 34,
   "id": "9acb9d56",
   "metadata": {},
   "outputs": [],
   "source": [
    "checkpoint = ModelCheckpoint(\n",
    "    'models/LSTM.h5',\n",
    "    monitor='accuracy',\n",
    "    save_best_only=True,\n",
    "    verbose=1\n",
    ")"
   ]
  },
  {
   "cell_type": "code",
   "execution_count": 35,
   "id": "4f3b7087",
   "metadata": {},
   "outputs": [
    {
     "name": "stdout",
     "output_type": "stream",
     "text": [
      "Epoch 1/5\n",
      "313/313 [==============================] - ETA: 0s - loss: 0.4770 - accuracy: 0.7305\n",
      "Epoch 00001: accuracy improved from -inf to 0.73053, saving model to models\\LSTM.h5\n",
      "313/313 [==============================] - 29s 90ms/step - loss: 0.4770 - accuracy: 0.7305\n",
      "Epoch 2/5\n",
      "313/313 [==============================] - ETA: 0s - loss: 0.2163 - accuracy: 0.9221\n",
      "Epoch 00002: accuracy improved from 0.73053 to 0.92210, saving model to models\\LSTM.h5\n",
      "313/313 [==============================] - 28s 90ms/step - loss: 0.2163 - accuracy: 0.9221\n",
      "Epoch 3/5\n",
      "313/313 [==============================] - ETA: 0s - loss: 0.1184 - accuracy: 0.9625\n",
      "Epoch 00003: accuracy improved from 0.92210 to 0.96255, saving model to models\\LSTM.h5\n",
      "313/313 [==============================] - 29s 92ms/step - loss: 0.1184 - accuracy: 0.9625\n",
      "Epoch 4/5\n",
      "313/313 [==============================] - ETA: 0s - loss: 0.0722 - accuracy: 0.9796\n",
      "Epoch 00004: accuracy improved from 0.96255 to 0.97960, saving model to models\\LSTM.h5\n",
      "313/313 [==============================] - 29s 92ms/step - loss: 0.0722 - accuracy: 0.9796\n",
      "Epoch 5/5\n",
      "313/313 [==============================] - ETA: 0s - loss: 0.0553 - accuracy: 0.9846\n",
      "Epoch 00005: accuracy improved from 0.97960 to 0.98457, saving model to models\\LSTM.h5\n",
      "313/313 [==============================] - 30s 95ms/step - loss: 0.0553 - accuracy: 0.9846\n"
     ]
    },
    {
     "data": {
      "text/plain": [
       "<keras.callbacks.History at 0x1d104026bb0>"
      ]
     },
     "execution_count": 35,
     "metadata": {},
     "output_type": "execute_result"
    }
   ],
   "source": [
    "model.fit(x_treino, y_treino, batch_size = 128, epochs = 5, callbacks=[checkpoint])"
   ]
  },
  {
   "cell_type": "markdown",
   "id": "da0a8ddd",
   "metadata": {},
   "source": [
    "<hr>\n",
    "\n",
    "\n",
    "### Teste\n",
    "\n",
    "O teste consiste em avaliar se o modelo consegue prever o sentimento dos comentários novos (x_teste) comparando com os rótulos destes comentários (y_teste). Em seguida é calculada a precisão do modelo que resultou em 86,63%.\n"
   ]
  },
  {
   "cell_type": "code",
   "execution_count": 36,
   "id": "eeda7dcc",
   "metadata": {},
   "outputs": [
    {
     "name": "stdout",
     "output_type": "stream",
     "text": [
      "Predições corretas: 8725\n",
      "Predições incorretas: 1275\n",
      "Acurácia: 87.25\n"
     ]
    }
   ],
   "source": [
    "y_pred = (model.predict(x_teste) > 0.5).astype(\"int32\")\n",
    "\n",
    "true = 0\n",
    "for i, y in enumerate(y_teste):\n",
    "    if y == y_pred[i]:\n",
    "        true += 1\n",
    "\n",
    "print('Predições corretas: {}'.format(true))\n",
    "print('Predições incorretas: {}'.format(len(y_pred) - true))\n",
    "print('Acurácia: {}'.format(true/len(y_pred)*100))"
   ]
  },
  {
   "cell_type": "markdown",
   "id": "9fc708c3",
   "metadata": {},
   "source": [
    "<hr>\n",
    "\n",
    "### Resultados "
   ]
  },
  {
   "cell_type": "code",
   "execution_count": 37,
   "id": "7b672f17",
   "metadata": {},
   "outputs": [],
   "source": [
    "loaded_model = load_model('models/LSTM.h5') # modelo salvo"
   ]
  },
  {
   "cell_type": "code",
   "execution_count": 43,
   "id": "83eafcf7",
   "metadata": {},
   "outputs": [
    {
     "name": "stdout",
     "output_type": "stream",
     "text": [
      "Comentário sobre o filme: This has got to be the worse ever spiderman 😫 got bored after an hour lost interest my husband enjoyed though Shame they didn't have a 0 button 😕 because I would have scored 0 instead of 1.\n",
      "\n",
      "\n",
      "Comentário sobre o filme: Watched this because people recommended it, plus the cast. But I found myself FORCING me to watch it only for those reasons. Movie is not funny nor really that smart.\n",
      "\n",
      "\n",
      "Comentário sobre o filme: This film really is something special.I enjoyed every single second and would happily have lapped up hours more of it. Everything about it is executed so well. I mean SO well.Not a single Marvel fan alive will be disappointed by this 10/10.\n",
      "\n",
      "\n",
      "Comentário sobre o filme: Don't Look Up is a phenomenal satire that's really funny, twisted and stressful to watch, using its giant meteor hurtling towards the planet to criticize and make fun of a wide variety of topics whilst also working as a sombre warning and metaphor for many of the current world issues.\n"
     ]
    }
   ],
   "source": [
    "# o modelo recebe um commentário para ser classificado\n",
    "comentario_1 = str(input('Comentário sobre o filme: '))\n",
    "print('\\n')\n",
    "comentario_2 = str(input('Comentário sobre o filme: '))\n",
    "print('\\n')\n",
    "comentario_3 = str(input('Comentário sobre o filme: '))\n",
    "print('\\n')\n",
    "comentario_4 = str(input('Comentário sobre o filme: '))"
   ]
  },
  {
   "cell_type": "code",
   "execution_count": 66,
   "id": "97f8c1a2",
   "metadata": {},
   "outputs": [
    {
     "name": "stdout",
     "output_type": "stream",
     "text": [
      "Comentário 1 tratado (negativo):  This has got to be the worse ever spiderman  got bored after an hour lost interest my husband enjoyed though Shame they didnt have a  button  because I would have scored  instead of \n",
      "\n",
      "\n",
      "Comentário 2 tratado (negativo):  Watched this because people recommended it plus the cast But I found myself FORCING me to watch it only for those reasons Movie is not funny nor really that smart\n",
      "\n",
      "\n",
      "Comentário 3 tratado (positivo):  This film really is something specialI enjoyed every single second and would happily have lapped up hours more of it Everything about it is executed so well I mean SO wellNot a single Marvel fan alive will be disappointed by this \n",
      "\n",
      "\n",
      "Comentário 4 tratado (positivo):  Dont Look Up is a phenomenal satire thats really funny twisted and stressful to watch using its giant meteor hurtling towards the planet to criticize and make fun of a wide variety of topics whilst also working as a sombre warning and metaphor for many of the current world issues\n"
     ]
    }
   ],
   "source": [
    "# a entrada é pré processada antes de passar pelo modelo\n",
    "regex = re.compile(r'[^a-zA-Z\\s]')\n",
    "comentario_1 = regex.sub('', comentario_1)\n",
    "comentario_2 = regex.sub('', comentario_2)\n",
    "comentario_3 = regex.sub('', comentario_3)\n",
    "comentario_4 = regex.sub('', comentario_4)\n",
    "print('Comentário 1 tratado (negativo): ', comentario_1)\n",
    "print('\\n')\n",
    "print('Comentário 2 tratado (negativo): ', comentario_2)\n",
    "print('\\n')\n",
    "print('Comentário 3 tratado (positivo): ', comentario_3)\n",
    "print('\\n')\n",
    "print('Comentário 4 tratado (positivo): ', comentario_4)"
   ]
  },
  {
   "cell_type": "code",
   "execution_count": 51,
   "id": "06e299f2",
   "metadata": {},
   "outputs": [
    {
     "name": "stdout",
     "output_type": "stream",
     "text": [
      "Comentário 1 tratado com filtro:  ['this got worse ever spiderman  got bored hour lost interest husband enjoyed though shame didnt  button  i would scored  instead ']\n"
     ]
    }
   ],
   "source": [
    "palavras = comentario_1.split(' ')\n",
    "filtro = [p for p in palavras if p not in eng_stops]\n",
    "filtro = ' '.join(filtro)\n",
    "filtro_1 = [filtro.lower()]\n",
    "\n",
    "print('Comentário 1 (negativo) tratado : ', filtro_1)"
   ]
  },
  {
   "cell_type": "code",
   "execution_count": 52,
   "id": "96bf0b76",
   "metadata": {},
   "outputs": [
    {
     "name": "stdout",
     "output_type": "stream",
     "text": [
      "Comentário 2 tratado com filtro:  ['watched people recommended plus cast but i found forcing watch reasons movie funny really smart']\n"
     ]
    }
   ],
   "source": [
    "palavras = comentario_2.split(' ')\n",
    "filtro = [p for p in palavras if p not in eng_stops]\n",
    "filtro = ' '.join(filtro)\n",
    "filtro_2 = [filtro.lower()]\n",
    "\n",
    "print('Comentário 2 (negativo) tratado : ', filtro_2)"
   ]
  },
  {
   "cell_type": "code",
   "execution_count": 53,
   "id": "8e9cf1c9",
   "metadata": {},
   "outputs": [
    {
     "name": "stdout",
     "output_type": "stream",
     "text": [
      "Comentário 3 tratado com filtro:  ['this film really something speciali enjoyed every single second would happily lapped hours everything executed well i mean so wellnot single marvel fan alive disappointed ']\n"
     ]
    }
   ],
   "source": [
    "palavras = comentario_3.split(' ')\n",
    "filtro = [p for p in palavras if p not in eng_stops]\n",
    "filtro = ' '.join(filtro)\n",
    "filtro_3 = [filtro.lower()]\n",
    "\n",
    "print('Comentário 3 (positivo) tratado : ', filtro_3)"
   ]
  },
  {
   "cell_type": "code",
   "execution_count": 54,
   "id": "2891db68",
   "metadata": {},
   "outputs": [
    {
     "name": "stdout",
     "output_type": "stream",
     "text": [
      "Comentário 4 tratado com filtro:  ['dont look up phenomenal satire thats really funny twisted stressful watch using giant meteor hurtling towards planet criticize make fun wide variety topics whilst also working sombre warning metaphor many current world issues']\n"
     ]
    }
   ],
   "source": [
    "palavras = comentario_4.split(' ')\n",
    "filtro = [p for p in palavras if p not in eng_stops]\n",
    "filtro = ' '.join(filtro)\n",
    "filtro_4 = [filtro.lower()]\n",
    "\n",
    "print('Comentário 4 (positivo) tratado : ', filtro_4)"
   ]
  },
  {
   "cell_type": "code",
   "execution_count": 90,
   "id": "f9ad2a59",
   "metadata": {},
   "outputs": [
    {
     "name": "stdout",
     "output_type": "stream",
     "text": [
      "Comentário 1 (negativo) tratado :  ['this got worse ever spiderman  got bored hour lost interest husband enjoyed though shame didnt  button  i would scored  instead ']\n",
      "\n",
      "\n",
      "Comentário 2 (negativo) tratado :  ['watched people recommended plus cast but i found forcing watch reasons movie funny really smart']\n",
      "\n",
      "\n",
      "Comentário 3 (positivo) tratado :  ['this film really something speciali enjoyed every single second would happily lapped hours everything executed well i mean so wellnot single marvel fan alive disappointed ']\n",
      "\n",
      "\n",
      "Comentário 4 (positivo) tratado :  ['dont look up phenomenal satire thats really funny twisted stressful watch using giant meteor hurtling towards planet criticize make fun wide variety topics whilst also working sombre warning metaphor many current world issues']\n"
     ]
    }
   ],
   "source": [
    "print('Comentário 1 (negativo) tratado : ', filtro_1)\n",
    "print('\\n')\n",
    "print('Comentário 2 (negativo) tratado : ', filtro_2)\n",
    "print('\\n')\n",
    "print('Comentário 3 (positivo) tratado : ', filtro_3)\n",
    "print('\\n')\n",
    "print('Comentário 4 (positivo) tratado : ', filtro_4)"
   ]
  },
  {
   "cell_type": "code",
   "execution_count": 60,
   "id": "ab199372",
   "metadata": {
    "scrolled": true
   },
   "outputs": [
    {
     "name": "stdout",
     "output_type": "stream",
     "text": [
      "[[    8   102   340    51 10785   102  1002   437   334   517   511   423\n",
      "     70   776  8784  3535     1    12  6625   206     0     0     0     0\n",
      "      0     0     0     0     0     0     0     0     0     0     0     0\n",
      "      0     0     0     0     0     0     0     0     0     0     0     0\n",
      "      0     0     0     0     0     0     0     0     0     0     0     0\n",
      "      0     0     0     0     0     0     0     0     0     0     0     0\n",
      "      0     0     0     0     0     0     0     0     0     0     0     0\n",
      "      0     0     0     0     0     0     0     0     0     0     0     0\n",
      "      0     0     0     0     0     0     0     0     0     0     0     0\n",
      "      0     0     0     0     0     0     0     0     0     0     0     0\n",
      "      0     0     0     0     0     0     0     0     0     0]]\n"
     ]
    }
   ],
   "source": [
    "# as palavras são codificadas \n",
    "palavras_codificadas_1 = token.texts_to_sequences(filtro_1)\n",
    "palavras_codificadas_1 = pad_sequences(palavras_codificadas_1, maxlen=max_len, padding='post', truncating='post')\n",
    "print(palavras_codificadas_1)"
   ]
  },
  {
   "cell_type": "code",
   "execution_count": 61,
   "id": "dbdabb4b",
   "metadata": {},
   "outputs": [
    {
     "name": "stdout",
     "output_type": "stream",
     "text": [
      "[[ 198   21 1069  806   87   30    1  162 4916   33  881    3   71   13\n",
      "  1205    0    0    0    0    0    0    0    0    0    0    0    0    0\n",
      "     0    0    0    0    0    0    0    0    0    0    0    0    0    0\n",
      "     0    0    0    0    0    0    0    0    0    0    0    0    0    0\n",
      "     0    0    0    0    0    0    0    0    0    0    0    0    0    0\n",
      "     0    0    0    0    0    0    0    0    0    0    0    0    0    0\n",
      "     0    0    0    0    0    0    0    0    0    0    0    0    0    0\n",
      "     0    0    0    0    0    0    0    0    0    0    0    0    0    0\n",
      "     0    0    0    0    0    0    0    0    0    0    0    0    0    0\n",
      "     0    0    0    0]]\n"
     ]
    }
   ],
   "source": [
    "# as palavras são codificadas \n",
    "palavras_codificadas_2 = token.texts_to_sequences(filtro_2)\n",
    "palavras_codificadas_2 = pad_sequences(palavras_codificadas_2, maxlen=max_len, padding='post', truncating='post')\n",
    "print(palavras_codificadas_2)"
   ]
  },
  {
   "cell_type": "code",
   "execution_count": 62,
   "id": "13544282",
   "metadata": {},
   "outputs": [
    {
     "name": "stdout",
     "output_type": "stream",
     "text": [
      "[[    8     4    13    61   423    83   588   240    12  3371 31910   523\n",
      "    172  2138    16     1   285   146   588  5708   231  1027   564     0\n",
      "      0     0     0     0     0     0     0     0     0     0     0     0\n",
      "      0     0     0     0     0     0     0     0     0     0     0     0\n",
      "      0     0     0     0     0     0     0     0     0     0     0     0\n",
      "      0     0     0     0     0     0     0     0     0     0     0     0\n",
      "      0     0     0     0     0     0     0     0     0     0     0     0\n",
      "      0     0     0     0     0     0     0     0     0     0     0     0\n",
      "      0     0     0     0     0     0     0     0     0     0     0     0\n",
      "      0     0     0     0     0     0     0     0     0     0     0     0\n",
      "      0     0     0     0     0     0     0     0     0     0]]\n"
     ]
    }
   ],
   "source": [
    "# as palavras são codificadas \n",
    "palavras_codificadas_3 = token.texts_to_sequences(filtro_3)\n",
    "palavras_codificadas_3 = pad_sequences(palavras_codificadas_3, maxlen=max_len, padding='post', truncating='post')\n",
    "print(palavras_codificadas_3)"
   ]
  },
  {
   "cell_type": "code",
   "execution_count": 63,
   "id": "0e4ca5ea",
   "metadata": {},
   "outputs": [
    {
     "name": "stdout",
     "output_type": "stream",
     "text": [
      "[[ 5295    77  2525  5856  2027  1476    13    71  2271 16365    33   708\n",
      "   1222  6932 20675   866  1206  6562    25   151  1678  2324  6013  1731\n",
      "     22   679 15719  1657  4849    37  1845    85  1200     0     0     0\n",
      "      0     0     0     0     0     0     0     0     0     0     0     0\n",
      "      0     0     0     0     0     0     0     0     0     0     0     0\n",
      "      0     0     0     0     0     0     0     0     0     0     0     0\n",
      "      0     0     0     0     0     0     0     0     0     0     0     0\n",
      "      0     0     0     0     0     0     0     0     0     0     0     0\n",
      "      0     0     0     0     0     0     0     0     0     0     0     0\n",
      "      0     0     0     0     0     0     0     0     0     0     0     0\n",
      "      0     0     0     0     0     0     0     0     0     0]]\n"
     ]
    }
   ],
   "source": [
    "# as palavras são codificadas \n",
    "palavras_codificadas_4 = token.texts_to_sequences(filtro_4)\n",
    "palavras_codificadas_4 = pad_sequences(palavras_codificadas_4, maxlen=max_len, padding='post', truncating='post')\n",
    "print(palavras_codificadas_4)"
   ]
  },
  {
   "cell_type": "code",
   "execution_count": 71,
   "id": "68fd2ca6",
   "metadata": {},
   "outputs": [
    {
     "name": "stdout",
     "output_type": "stream",
     "text": [
      "[[0.00647682]]\n"
     ]
    }
   ],
   "source": [
    "# pontuação de confiança do previsão da classe do comentário\n",
    "resultado_1 = loaded_model.predict(palavras_codificadas_1)\n",
    "print(resultado_1)"
   ]
  },
  {
   "cell_type": "code",
   "execution_count": 72,
   "id": "217020fd",
   "metadata": {},
   "outputs": [
    {
     "name": "stdout",
     "output_type": "stream",
     "text": [
      "[[0.92644936]]\n"
     ]
    }
   ],
   "source": [
    "resultado_2 = loaded_model.predict(palavras_codificadas_2)\n",
    "print(resultado_2)"
   ]
  },
  {
   "cell_type": "code",
   "execution_count": 73,
   "id": "266fdf5b",
   "metadata": {},
   "outputs": [
    {
     "name": "stdout",
     "output_type": "stream",
     "text": [
      "[[0.9967264]]\n"
     ]
    }
   ],
   "source": [
    "resultado_3 = loaded_model.predict(palavras_codificadas_3)\n",
    "print(resultado_3)"
   ]
  },
  {
   "cell_type": "code",
   "execution_count": 74,
   "id": "45f54fda",
   "metadata": {},
   "outputs": [
    {
     "name": "stdout",
     "output_type": "stream",
     "text": [
      "[[0.99699455]]\n"
     ]
    }
   ],
   "source": [
    "resultado_4 = loaded_model.predict(palavras_codificadas_4)\n",
    "print(resultado_4)"
   ]
  },
  {
   "cell_type": "code",
   "execution_count": 81,
   "id": "3a516f93",
   "metadata": {},
   "outputs": [
    {
     "data": {
      "text/plain": [
       "[0.00647682, 0.92644936, 0.9967264, 0.99699455]"
      ]
     },
     "execution_count": 81,
     "metadata": {},
     "output_type": "execute_result"
    }
   ],
   "source": [
    "resultados = [0.00647682,0.92644936,0.9967264,0.99699455]\n",
    "resultados"
   ]
  },
  {
   "cell_type": "code",
   "execution_count": 84,
   "id": "22c055c9",
   "metadata": {},
   "outputs": [
    {
     "name": "stdout",
     "output_type": "stream",
     "text": [
      "negativo\n"
     ]
    }
   ],
   "source": [
    "# se a pontuação estiver mais próxima de 0, o comentário tem sentimento negativo. Em contrapartida, se a pontuação estiver próxima a 1, o comentário é positivo.\n",
    "# foi utilizado um threshold de 0,7 para determinar se a pontuação representa um comentário positivo  ou negativo. Portanto, pontuação maior de 0,7 é positiva e menor que 0,7 é negativa.\n",
    "\n",
    "if resultado_1 >= 0.7:\n",
    "    print('positivo')\n",
    "else:\n",
    "    print('negativo')"
   ]
  },
  {
   "cell_type": "code",
   "execution_count": 85,
   "id": "8b03a46f",
   "metadata": {},
   "outputs": [
    {
     "name": "stdout",
     "output_type": "stream",
     "text": [
      "positivo\n"
     ]
    }
   ],
   "source": [
    "if resultado_2 >= 0.7:\n",
    "    print('positivo')\n",
    "else:\n",
    "    print('negativo')"
   ]
  },
  {
   "cell_type": "code",
   "execution_count": 86,
   "id": "fc30a706",
   "metadata": {},
   "outputs": [
    {
     "name": "stdout",
     "output_type": "stream",
     "text": [
      "positivo\n"
     ]
    }
   ],
   "source": [
    "if resultado_3 >= 0.7:\n",
    "    print('positivo')\n",
    "else:\n",
    "    print('negativo')"
   ]
  },
  {
   "cell_type": "code",
   "execution_count": 87,
   "id": "e41c17de",
   "metadata": {},
   "outputs": [
    {
     "name": "stdout",
     "output_type": "stream",
     "text": [
      "positivo\n"
     ]
    }
   ],
   "source": [
    "if resultado_4 >= 0.7:\n",
    "    print('positivo')\n",
    "else:\n",
    "    print('negativo')"
   ]
  },
  {
   "cell_type": "code",
   "execution_count": null,
   "id": "4c91be8c",
   "metadata": {},
   "outputs": [],
   "source": []
  }
 ],
 "metadata": {
  "kernelspec": {
   "display_name": "Python 3 (ipykernel)",
   "language": "python",
   "name": "python3"
  },
  "language_info": {
   "codemirror_mode": {
    "name": "ipython",
    "version": 3
   },
   "file_extension": ".py",
   "mimetype": "text/x-python",
   "name": "python",
   "nbconvert_exporter": "python",
   "pygments_lexer": "ipython3",
   "version": "3.9.7"
  }
 },
 "nbformat": 4,
 "nbformat_minor": 5
}
