{
 "cells": [
  {
   "cell_type": "markdown",
   "id": "0a64f446",
   "metadata": {},
   "source": [
    "# Análise de Sentimentos dos Comentários da IMDb\n",
    "por Gleice Garcia\n",
    "<hr>\n",
    "\n",
    "### Etapas\n",
    "<ol type=\"1\">\n",
    "    <li>Importação dos Dados (50K IMDB Movie Review)</li>\n",
    "    <li>Limpeza e Pré processamento dos Dados</li>\n",
    "    <li>Divisão em Treino e Teste</li>\n",
    "    <li>Tokenize e Pad/Truncate</li>\n",
    "    <li>Construção do Modelo</li>\n",
    "    <li>Treino e Teste</li>\n",
    "</ol>\n",
    "\n",
    "<hr>"
   ]
  },
  {
   "cell_type": "code",
   "execution_count": 1,
   "id": "419bad59",
   "metadata": {},
   "outputs": [],
   "source": [
    "import pandas as pd    \n",
    "import numpy as np     \n",
    "from nltk.corpus import stopwords  \n",
    "from sklearn.model_selection import train_test_split       \n",
    "from tensorflow.keras.preprocessing.text import Tokenizer \n",
    "from tensorflow.keras.preprocessing.sequence import pad_sequences   \n",
    "from tensorflow.keras.models import Sequential     \n",
    "from tensorflow.keras.layers import Embedding, LSTM, Dense \n",
    "from tensorflow.keras.callbacks import ModelCheckpoint   \n",
    "from tensorflow.keras.models import load_model  \n",
    "import re\n",
    "import matplotlib.pyplot as plt"
   ]
  },
  {
   "cell_type": "code",
   "execution_count": 2,
   "id": "d5ea1310",
   "metadata": {},
   "outputs": [
    {
     "data": {
      "text/html": [
       "<div>\n",
       "<style scoped>\n",
       "    .dataframe tbody tr th:only-of-type {\n",
       "        vertical-align: middle;\n",
       "    }\n",
       "\n",
       "    .dataframe tbody tr th {\n",
       "        vertical-align: top;\n",
       "    }\n",
       "\n",
       "    .dataframe thead th {\n",
       "        text-align: right;\n",
       "    }\n",
       "</style>\n",
       "<table border=\"1\" class=\"dataframe\">\n",
       "  <thead>\n",
       "    <tr style=\"text-align: right;\">\n",
       "      <th></th>\n",
       "      <th>review</th>\n",
       "      <th>sentiment</th>\n",
       "    </tr>\n",
       "  </thead>\n",
       "  <tbody>\n",
       "    <tr>\n",
       "      <th>0</th>\n",
       "      <td>One of the other reviewers has mentioned that ...</td>\n",
       "      <td>positive</td>\n",
       "    </tr>\n",
       "    <tr>\n",
       "      <th>1</th>\n",
       "      <td>A wonderful little production. &lt;br /&gt;&lt;br /&gt;The...</td>\n",
       "      <td>positive</td>\n",
       "    </tr>\n",
       "    <tr>\n",
       "      <th>2</th>\n",
       "      <td>I thought this was a wonderful way to spend ti...</td>\n",
       "      <td>positive</td>\n",
       "    </tr>\n",
       "    <tr>\n",
       "      <th>3</th>\n",
       "      <td>Basically there's a family where a little boy ...</td>\n",
       "      <td>negative</td>\n",
       "    </tr>\n",
       "    <tr>\n",
       "      <th>4</th>\n",
       "      <td>Petter Mattei's \"Love in the Time of Money\" is...</td>\n",
       "      <td>positive</td>\n",
       "    </tr>\n",
       "  </tbody>\n",
       "</table>\n",
       "</div>"
      ],
      "text/plain": [
       "                                              review sentiment\n",
       "0  One of the other reviewers has mentioned that ...  positive\n",
       "1  A wonderful little production. <br /><br />The...  positive\n",
       "2  I thought this was a wonderful way to spend ti...  positive\n",
       "3  Basically there's a family where a little boy ...  negative\n",
       "4  Petter Mattei's \"Love in the Time of Money\" is...  positive"
      ]
     },
     "execution_count": 2,
     "metadata": {},
     "output_type": "execute_result"
    }
   ],
   "source": [
    "df_imdb = pd.read_csv('IMDB Dataset.csv')\n",
    "df_imdb.head()"
   ]
  },
  {
   "cell_type": "code",
   "execution_count": 3,
   "id": "370c7fd0",
   "metadata": {},
   "outputs": [
    {
     "data": {
      "text/plain": [
       "(50000, 2)"
      ]
     },
     "execution_count": 3,
     "metadata": {},
     "output_type": "execute_result"
    }
   ],
   "source": [
    "df_imdb.shape"
   ]
  },
  {
   "cell_type": "code",
   "execution_count": 4,
   "id": "32875f72",
   "metadata": {},
   "outputs": [
    {
     "data": {
      "text/html": [
       "<div>\n",
       "<style scoped>\n",
       "    .dataframe tbody tr th:only-of-type {\n",
       "        vertical-align: middle;\n",
       "    }\n",
       "\n",
       "    .dataframe tbody tr th {\n",
       "        vertical-align: top;\n",
       "    }\n",
       "\n",
       "    .dataframe thead th {\n",
       "        text-align: right;\n",
       "    }\n",
       "</style>\n",
       "<table border=\"1\" class=\"dataframe\">\n",
       "  <thead>\n",
       "    <tr style=\"text-align: right;\">\n",
       "      <th></th>\n",
       "      <th>review</th>\n",
       "      <th>sentiment</th>\n",
       "    </tr>\n",
       "  </thead>\n",
       "  <tbody>\n",
       "    <tr>\n",
       "      <th>0</th>\n",
       "      <td>One of the other reviewers has mentioned that ...</td>\n",
       "      <td>positive</td>\n",
       "    </tr>\n",
       "    <tr>\n",
       "      <th>1</th>\n",
       "      <td>A wonderful little production. &lt;br /&gt;&lt;br /&gt;The...</td>\n",
       "      <td>positive</td>\n",
       "    </tr>\n",
       "    <tr>\n",
       "      <th>2</th>\n",
       "      <td>I thought this was a wonderful way to spend ti...</td>\n",
       "      <td>positive</td>\n",
       "    </tr>\n",
       "    <tr>\n",
       "      <th>3</th>\n",
       "      <td>Basically there's a family where a little boy ...</td>\n",
       "      <td>negative</td>\n",
       "    </tr>\n",
       "    <tr>\n",
       "      <th>4</th>\n",
       "      <td>Petter Mattei's \"Love in the Time of Money\" is...</td>\n",
       "      <td>positive</td>\n",
       "    </tr>\n",
       "    <tr>\n",
       "      <th>5</th>\n",
       "      <td>Probably my all-time favorite movie, a story o...</td>\n",
       "      <td>positive</td>\n",
       "    </tr>\n",
       "    <tr>\n",
       "      <th>6</th>\n",
       "      <td>I sure would like to see a resurrection of a u...</td>\n",
       "      <td>positive</td>\n",
       "    </tr>\n",
       "    <tr>\n",
       "      <th>7</th>\n",
       "      <td>This show was an amazing, fresh &amp; innovative i...</td>\n",
       "      <td>negative</td>\n",
       "    </tr>\n",
       "    <tr>\n",
       "      <th>8</th>\n",
       "      <td>Encouraged by the positive comments about this...</td>\n",
       "      <td>negative</td>\n",
       "    </tr>\n",
       "    <tr>\n",
       "      <th>9</th>\n",
       "      <td>If you like original gut wrenching laughter yo...</td>\n",
       "      <td>positive</td>\n",
       "    </tr>\n",
       "  </tbody>\n",
       "</table>\n",
       "</div>"
      ],
      "text/plain": [
       "                                              review sentiment\n",
       "0  One of the other reviewers has mentioned that ...  positive\n",
       "1  A wonderful little production. <br /><br />The...  positive\n",
       "2  I thought this was a wonderful way to spend ti...  positive\n",
       "3  Basically there's a family where a little boy ...  negative\n",
       "4  Petter Mattei's \"Love in the Time of Money\" is...  positive\n",
       "5  Probably my all-time favorite movie, a story o...  positive\n",
       "6  I sure would like to see a resurrection of a u...  positive\n",
       "7  This show was an amazing, fresh & innovative i...  negative\n",
       "8  Encouraged by the positive comments about this...  negative\n",
       "9  If you like original gut wrenching laughter yo...  positive"
      ]
     },
     "execution_count": 4,
     "metadata": {},
     "output_type": "execute_result"
    }
   ],
   "source": [
    "df_imdb.head(10)"
   ]
  },
  {
   "cell_type": "code",
   "execution_count": 5,
   "id": "6e9bdeb9",
   "metadata": {},
   "outputs": [
    {
     "data": {
      "text/plain": [
       "<AxesSubplot:>"
      ]
     },
     "execution_count": 5,
     "metadata": {},
     "output_type": "execute_result"
    },
    {
     "data": {
      "image/png": "[encoded data removed]",
      "text/plain": [
       "<Figure size 432x288 with 1 Axes>"
      ]
     },
     "metadata": {
      "needs_background": "light"
     },
     "output_type": "display_data"
    }
   ],
   "source": [
    "df_imdb['sentiment'].value_counts().plot(kind = 'bar')"
   ]
  },
  {
   "cell_type": "markdown",
   "id": "e1d2c6f4",
   "metadata": {},
   "source": [
    "<hr>\n",
    "\n",
    "### Limpeza e Pré processamento dos Dados\n",
    "\n",
    "Antes da divisão dos dados em treino e teste e da construção do modelo, é fundamental que seja feito um tratamento para remover tags html, pontuações, caracteres não alfanuméricos e palavras 'stopwords'. Além disso, é importante que seja atribuído um valor para os sentimentos positivos e negativos. Neste caso 1 e 0, respectivamente."
   ]
  },
  {
   "cell_type": "code",
   "execution_count": 6,
   "id": "07e9e287",
   "metadata": {},
   "outputs": [],
   "source": [
    "# Importa o conjunto de stopwords em inglês \n",
    "eng_stops = set(stopwords.words('english'))"
   ]
  },
  {
   "cell_type": "code",
   "execution_count": 7,
   "id": "7fa4b4dc",
   "metadata": {},
   "outputs": [],
   "source": [
    "df = pd.read_csv('IMDB Dataset.csv')\n",
    "x_data = df['review']       # Reviews/Input\n",
    "y_data = df['sentiment']    # Sentiment/Output\n",
    "\n",
    "# Tratamento do texto\n",
    "x_data = x_data.replace({'<.*?>': ''}, regex = True)          # remove tags html \n",
    "x_data = x_data.replace({'[^A-Za-z]': ' '}, regex = True)     # remove caracteres especiais\n",
    "x_data = x_data.apply(lambda review: [w for w in review.split() if w not in eng_stops])  # remove as stopwords\n",
    "x_data = x_data.apply(lambda review: [w.lower() for w in review])   # converte para letra minuscula "
   ]
  },
  {
   "cell_type": "code",
   "execution_count": 8,
   "id": "3519ab1d",
   "metadata": {},
   "outputs": [],
   "source": [
    "# Codificação do sentimento (positivo e negativo)\n",
    "y_data = y_data.replace('positive', 1)\n",
    "y_data = y_data.replace('negative', 0)"
   ]
  },
  {
   "cell_type": "markdown",
   "id": "6dbadcb6",
   "metadata": {},
   "source": [
    "<hr>\n",
    "\n",
    "### Divisão em Treino e Teste\n",
    "Os dados são divididos 80% em treino e 20% em teste através da função train_test_split(). Essa função embaralha os dados no momento em que separa os dados em dois conjuntos e isso é importante porque no conjunto de dados origina as avaliações e os sentimentos estão em ordem, primeiro avaliações positivas e depois as negativas. Isso garante que os dados serão distribuídos igualmente no modelo, trazendo maior precisão para as previsões."
   ]
  },
  {
   "cell_type": "code",
   "execution_count": 9,
   "id": "7ee5749a",
   "metadata": {},
   "outputs": [
    {
     "name": "stdout",
     "output_type": "stream",
     "text": [
      "Conjunto de Treino\n",
      "33815    [the, five, deadly, venoms, great, kung, fu, a...\n",
      "42244    [a, realistic, depiction, young, love, college...\n",
      "33310    [this, movie, tries, first, acting, horrible, ...\n",
      "11160    [i, say, one, thing, herman, usa, probably, al...\n",
      "43819    [a, plane, carrying, rich, scientist, daughter...\n",
      "                               ...                        \n",
      "35233    [i, believe, amount, reviewers, praise, realis...\n",
      "7934     [enjoyed, movie, efficient, confucian, crime, ...\n",
      "30268    [where, sidewalk, ends, quite, good, film, noi...\n",
      "34064    [naturally, sadie, sucks, big, time, i, idea, ...\n",
      "44934    [errol, flynn, greatest, movie, sports, movie,...\n",
      "Name: review, Length: 40000, dtype: object \n",
      "\n",
      "Conjunto de Teste\n",
      "46679    [in, early, th, century, young, woman, harelip...\n",
      "19085    [i, marine, camp, pendleton, d, i, came, st, m...\n",
      "16626    [what, i, say, this, movie, romance, break, up...\n",
      "34758    [i, big, fan, faerie, tale, theatre, i, seen, ...\n",
      "7609     [screen, treatment, comedic, broadway, success...\n",
      "                               ...                        \n",
      "47419    [there, need, repeat, synopsis, rendered, glen...\n",
      "28412    [how, documentary, much, like, walking, ghost,...\n",
      "14958    [i, saw, jolly, little, film, age, broadcast, ...\n",
      "4428     [being, fan, saint, etienne, city, london, i, ...\n",
      "2791     [a, wes, craven, presents, movie, directed, jo...\n",
      "Name: review, Length: 10000, dtype: object \n",
      "\n",
      "Conjunto de Treino\n",
      "33815    1\n",
      "42244    1\n",
      "33310    0\n",
      "11160    0\n",
      "43819    0\n",
      "        ..\n",
      "35233    0\n",
      "7934     1\n",
      "30268    1\n",
      "34064    0\n",
      "44934    1\n",
      "Name: sentiment, Length: 40000, dtype: int64 \n",
      "\n",
      "Conjunto de Teste\n",
      "46679    1\n",
      "19085    1\n",
      "16626    1\n",
      "34758    1\n",
      "7609     0\n",
      "        ..\n",
      "47419    1\n",
      "28412    0\n",
      "14958    1\n",
      "4428     1\n",
      "2791     0\n",
      "Name: sentiment, Length: 10000, dtype: int64\n"
     ]
    }
   ],
   "source": [
    "x_treino, x_teste, y_treino, y_teste = train_test_split(x_data, y_data, test_size = 0.2)\n",
    "\n",
    "print('Conjunto de Treino')\n",
    "print(x_treino, '\\n')\n",
    "print('Conjunto de Teste')\n",
    "print(x_teste, '\\n')\n",
    "print('Conjunto de Treino')\n",
    "print(y_treino, '\\n')\n",
    "print('Conjunto de Teste')\n",
    "print(y_teste)"
   ]
  },
  {
   "cell_type": "markdown",
   "id": "05c28bd1",
   "metadata": {},
   "source": [
    "<hr>\n",
    "\n",
    "### Tokenize, Pad/Truncate \n",
    "Após a divisão dos dados em conjuntos de treinamento e teste, é necessário transformar os comentários em dados númericos inteiros. \n",
    "Além disso, pelos comentários terem comprimentos diferentes foi preciso fazer um preenchimento com zeros, para que ficassem todas com o mesmo tamanho."
   ]
  },
  {
   "cell_type": "code",
   "execution_count": 10,
   "id": "15906aba",
   "metadata": {},
   "outputs": [],
   "source": [
    "# função para encontrar o comprimento máximo das resenhas pela média de comprimento geral.\n",
    "def maior_tamanho():\n",
    "    comprimento = []\n",
    "    for review in x_treino:\n",
    "        comprimento.append(len(review))\n",
    "\n",
    "    return int(np.ceil(np.mean(comprimento)))"
   ]
  },
  {
   "cell_type": "code",
   "execution_count": 11,
   "id": "64c87110",
   "metadata": {},
   "outputs": [],
   "source": [
    "token = Tokenizer(lower=False)   \n",
    "token.fit_on_texts(x_treino)\n",
    "x_treino = token.texts_to_sequences(x_treino)\n",
    "x_teste = token.texts_to_sequences(x_teste)"
   ]
  },
  {
   "cell_type": "code",
   "execution_count": 12,
   "id": "9c48f460",
   "metadata": {},
   "outputs": [
    {
     "name": "stdout",
     "output_type": "stream",
     "text": [
      "Encoded X Train\n",
      " [[    2   604  2407 ...     0     0     0]\n",
      " [   39   695  2504 ...     0     0     0]\n",
      " [    8     3   417 ...     0     0     0]\n",
      " ...\n",
      " [ 1077  7546   553 ...     0     0     0]\n",
      " [ 1848 12740  1548 ...     0     0     0]\n",
      " [ 5633  3210   730 ...     0     0     0]] \n",
      "\n",
      "Encoded X Test\n",
      " [[   49   315   692 ...    11   134  3426]\n",
      " [    1  5014  1106 ...  6508  1738 34418]\n",
      " [  105     1    58 ...     0     0     0]\n",
      " ...\n",
      " [    1   114  9213 ...     0     0     0]\n",
      " [ 2013   238  5300 ...     0     0     0]\n",
      " [   39  5026  4855 ...     0     0     0]] \n",
      "\n",
      "Maximum review length:  130\n"
     ]
    }
   ],
   "source": [
    "max_len = maior_tamanho()\n",
    "\n",
    "x_treino = pad_sequences(x_treino, maxlen=max_len, padding='post', truncating='post')\n",
    "x_teste = pad_sequences(x_teste, maxlen=max_len, padding='post', truncating='post')\n",
    "\n",
    "total_palavras = len(token.word_index) + 1\n",
    "\n",
    "print('Encoded X Train\\n', x_treino, '\\n')\n",
    "print('Encoded X Test\\n', x_teste, '\\n')\n",
    "print('Maximum review length: ', max_len)"
   ]
  },
  {
   "cell_type": "markdown",
   "id": "57e40766",
   "metadata": {},
   "source": [
    "<hr>\n",
    "\n",
    "### Construção do Modelo\n",
    "\n",
    "**Camada embedding**: Utilizada para vetorizar o texto. O embedding de palavras faz a representação na qual, por meio de um agrupamento, palavras semelhantes têm codificação semelhante. Os valores para o embedding são parâmetros treináveis (pesos aprendidos durante o treinamento, da mesma maneira que um modelo aprende pesos para uma camada densa). \n",
    "\n",
    "**Camada LSTM** : tem a capacidade tanto de lembrar quanto de esquecer\n",
    "o estado anterior quando essa informação não for mais necessária. Seus componentes são: \n",
    "\n",
    "**Forget Gate** : decide qual informação manter ou esquecer;\n",
    "\n",
    "**Input Gate** : adição de informações úteis ao estado da célula (blocos de memória) passando a saída anterior e a entrada atual na função de ativação sigmóide. Os valores do vetor e os valores regulados são multiplicados para obter as informações úteis.\n",
    "\n",
    "**Output Gate** : extrair informações úteis do estado da célula atual para ser apresentadas como uma saída\n",
    "\n",
    "**Camada Densa** : calcula a entrada com a matriz de peso e bias (opcional), e usando uma função de ativação.\n",
    "\n",
    "Foi utilizado o otimizador Adam e a função de custo Binary Crossentropy já que a saída é binária.\n"
   ]
  },
  {
   "cell_type": "code",
   "execution_count": 13,
   "id": "10825e7f",
   "metadata": {},
   "outputs": [
    {
     "name": "stdout",
     "output_type": "stream",
     "text": [
      "Model: \"sequential\"\n",
      "_________________________________________________________________\n",
      " Layer (type)                Output Shape              Param #   \n",
      "=================================================================\n",
      " embedding (Embedding)       (None, 130, 32)           2964832   \n",
      "                                                                 \n",
      " lstm (LSTM)                 (None, 64)                24832     \n",
      "                                                                 \n",
      " dense (Dense)               (None, 1)                 65        \n",
      "                                                                 \n",
      "=================================================================\n",
      "Total params: 2,989,729\n",
      "Trainable params: 2,989,729\n",
      "Non-trainable params: 0\n",
      "_________________________________________________________________\n",
      "None\n"
     ]
    }
   ],
   "source": [
    "emb_dim = 32 # o comprimento do vetor é um parâmetro. Números menores são ideais para conjuntos menores.\n",
    "lstm_out = 64\n",
    "\n",
    "model = Sequential()\n",
    "model.add(Embedding(total_palavras, emb_dim, input_length = max_len))\n",
    "model.add(LSTM(lstm_out))\n",
    "model.add(Dense(1, activation='sigmoid'))\n",
    "model.compile(optimizer = 'adam', loss = 'binary_crossentropy', metrics = ['accuracy'])\n",
    "\n",
    "print(model.summary())"
   ]
  },
  {
   "cell_type": "markdown",
   "id": "7ca74df7",
   "metadata": {},
   "source": [
    "<hr>\n",
    "\n",
    "### Treino\n",
    "\n",
    "O treino consiste em ajustar os dados de entrada (x_treino) e de saída/rótulo (y_treino). Para isso foi utilizado o método de aprendizado de mini-batch com batch_size de 128 e 5 épocas.\n",
    "\n",
    "Foi adicionado um checkpoint para salvar o modelo localmente para cada época se sua precisão melhorar em relação a anterior."
   ]
  },
  {
   "cell_type": "code",
   "execution_count": 14,
   "id": "9acb9d56",
   "metadata": {},
   "outputs": [],
   "source": [
    "checkpoint = ModelCheckpoint(\n",
    "    'models/LSTM.h5',\n",
    "    monitor='accuracy',\n",
    "    save_best_only=True,\n",
    "    verbose=1\n",
    ")"
   ]
  },
  {
   "cell_type": "code",
   "execution_count": 15,
   "id": "4f3b7087",
   "metadata": {},
   "outputs": [
    {
     "name": "stdout",
     "output_type": "stream",
     "text": [
      "Epoch 1/5\n",
      "313/313 [==============================] - ETA: 0s - loss: 0.4960 - accuracy: 0.7300\n",
      "Epoch 00001: accuracy improved from -inf to 0.72995, saving model to models\\LSTM.h5\n",
      "313/313 [==============================] - 59s 172ms/step - loss: 0.4960 - accuracy: 0.7300\n",
      "Epoch 2/5\n",
      "313/313 [==============================] - ETA: 0s - loss: 0.2259 - accuracy: 0.9183\n",
      "Epoch 00002: accuracy improved from 0.72995 to 0.91833, saving model to models\\LSTM.h5\n",
      "313/313 [==============================] - 45s 145ms/step - loss: 0.2259 - accuracy: 0.9183\n",
      "Epoch 3/5\n",
      "313/313 [==============================] - ETA: 0s - loss: 0.1283 - accuracy: 0.9606\n",
      "Epoch 00003: accuracy improved from 0.91833 to 0.96055, saving model to models\\LSTM.h5\n",
      "313/313 [==============================] - 48s 154ms/step - loss: 0.1283 - accuracy: 0.9606\n",
      "Epoch 4/5\n",
      "313/313 [==============================] - ETA: 0s - loss: 0.0933 - accuracy: 0.9723\n",
      "Epoch 00004: accuracy improved from 0.96055 to 0.97228, saving model to models\\LSTM.h5\n",
      "313/313 [==============================] - 46s 148ms/step - loss: 0.0933 - accuracy: 0.9723\n",
      "Epoch 5/5\n",
      "313/313 [==============================] - ETA: 0s - loss: 0.0585 - accuracy: 0.9842\n",
      "Epoch 00005: accuracy improved from 0.97228 to 0.98422, saving model to models\\LSTM.h5\n",
      "313/313 [==============================] - 49s 157ms/step - loss: 0.0585 - accuracy: 0.9842\n"
     ]
    },
    {
     "data": {
      "text/plain": [
       "<keras.callbacks.History at 0x1e2004d1670>"
      ]
     },
     "execution_count": 15,
     "metadata": {},
     "output_type": "execute_result"
    }
   ],
   "source": [
    "model.fit(x_treino, y_treino, batch_size = 128, epochs = 5, callbacks=[checkpoint])"
   ]
  },
  {
   "cell_type": "markdown",
   "id": "da0a8ddd",
   "metadata": {},
   "source": [
    "<hr>\n",
    "\n",
    "\n",
    "### Teste\n",
    "\n",
    "O teste consiste em avaliar se o modelo consegue prever o sentimento dos comentários novos (x_teste) comparando com os rótulos destes comentários (y_teste). Em seguida é calculada a precisão do modelo que resultou em 87,25%.\n"
   ]
  },
  {
   "cell_type": "code",
   "execution_count": 16,
   "id": "eeda7dcc",
   "metadata": {},
   "outputs": [
    {
     "name": "stdout",
     "output_type": "stream",
     "text": [
      "Predições corretas: 8689\n",
      "Predições incorretas: 1311\n",
      "Acurácia: 86.89\n"
     ]
    }
   ],
   "source": [
    "y_pred = (model.predict(x_teste) > 0.5).astype(\"int32\")\n",
    "\n",
    "true = 0\n",
    "for i, y in enumerate(y_teste):\n",
    "    if y == y_pred[i]:\n",
    "        true += 1\n",
    "\n",
    "print('Predições corretas: {}'.format(true))\n",
    "print('Predições incorretas: {}'.format(len(y_pred) - true))\n",
    "print('Acurácia: {}'.format(true/len(y_pred)*100))"
   ]
  },
  {
   "cell_type": "markdown",
   "id": "9fc708c3",
   "metadata": {},
   "source": [
    "<hr>\n",
    "\n",
    "### Resultados "
   ]
  },
  {
   "cell_type": "code",
   "execution_count": 17,
   "id": "7b672f17",
   "metadata": {},
   "outputs": [],
   "source": [
    "loaded_model = load_model('models/LSTM.h5') # modelo salvo"
   ]
  },
  {
   "cell_type": "code",
   "execution_count": 109,
   "id": "83eafcf7",
   "metadata": {},
   "outputs": [
    {
     "name": "stdout",
     "output_type": "stream",
     "text": [
      "Comentário sobre o filme: I have never been so bored watching a film. Every shot seems to be way longer than it should be making it a very slow and boring film. Not to mention Robert Pattinsons boring monotone mumble throughout the film. There were several points where I was relieved because I thought the film was about to come to an end.\n",
      "\n",
      "\n",
      "Comentário sobre o filme: It felt really flat and boring. God, I hope they don't make a third one. Or at least they can pick a Poirot case that hasn't been made into a film before, but a hundred times better\n",
      "\n",
      "\n",
      "Comentário sobre o filme: I feel like i wasted my time.didn't get the feeling of adventure . Although it was funny most of the point . But the story was not great . I have heard time to figure out what's going there.\n",
      "\n",
      "\n",
      "Comentário sobre o filme: I was bored during 95% of the movie. It had 10 minutes of action and rest of movie is just a bad story. I don't recomend this movie except if you want to fall a sleep then this is movie for you.\n",
      "\n",
      "\n",
      "Comentário sobre o filme: Its good the quality is not great but i would love to watch k return of kings so i must write a review so i finish my porfile\n",
      "\n",
      "\n",
      "Comentário sobre o filme: I started to doubt myself when I saw every good reviews here. The movie was not a good experience for me. The plot of the film is very old and quite outdated, also very loose and clumsy, the characters are not well developed, even the story behind the characters is not clear. The only highlight of the film is the animation style. It's really sad for DreamWorks that a film with such impressive graphics has a really bad plot.\n",
      "\n",
      "\n",
      "Comentário sobre o filme: Acting and writing not good, seemed poorly edited. Not sure what the people are on that are giving this a high rating, but don't waste your money. Boring story, wait to stream it somewhere.\n",
      "\n",
      "\n",
      "Comentário sobre o filme: It's Alright, But Way Too Long & Boring Mostly!\n",
      "\n",
      "\n",
      "Comentário sobre o filme: What a waste of time. Lady GaGa was interesting to watch and that's the only thing that got me through it. Just to long and drawn out. It should have been 90minutes instead of 150mins.\n",
      "\n",
      "\n",
      "Comentário sobre o filme: Terrible 1st episode, 50 min of running. Boring but I guess also cheap to produce. Very disappointing as I was waiting for this. Terrible pacing and most of all boring story telling with Venom in the background.\n",
      "\n",
      "\n",
      "Comentário sobre o filme: Your given information about Armenian Genocide is totally lie. Turkish Governmental Archives are open the international visitors. If you blame the us this reason, first of all you must be objective\n",
      "\n",
      "\n",
      "Comentário sobre o filme: Show was very boring i could not watch till the end i just skipped and skipped..in my opinion Oscar Isaac it's not good choice for moon knight and the CGI is very average and midcore...\n",
      "\n",
      "\n",
      "Comentário sobre o filme: \"Boring. Atmosphere and concept copied from DC.  Oscar Isaac is not suitable for this role. His acting is bad The quality of the series is below Marvel standards.  Sadly I have to give it a low rating Waste of time.\"\n",
      "\n",
      "\n",
      "Comentário sobre o filme: I do not suggest. I pay for internet and electricity bills. It was wasted. The subject was not satisfactory. I'm sorry I wasted my time on this movie when there are better movies out there.\n",
      "\n",
      "\n",
      "Comentário sobre o filme: Well that was rough. Horrible acting. The random background voice was just annoying and cheesy all the way through. Sucks cause I was really excited for this. Being excited for something Marvel doesn't happen much.\n",
      "\n",
      "\n",
      "Comentário sobre o filme: Unbelievably bland. A chore to sit through. I was able to make it to end in two sittings just because I really wanted to give it a chance but no. Don't waste your time.\n",
      "\n",
      "\n",
      "Comentário sobre o filme: I know such movies brings you money.... but come on isnt it enough. Also same faces always, do i watch dune or moon knight... anyway please spend your money for wise things.\n",
      "\n",
      "\n",
      "Comentário sobre o filme: I really got bored watching it. Normally, I get excited about watching superhero movies. But I was really bored with this movie. I'm glad it's at least separate from the mcu universe.\n",
      "\n",
      "\n",
      "Comentário sobre o filme: I understand that the purpose of this film is brilliant but it is made so poorly and most of it was so boring ; the movie is too long , i kept checking my watch throughout the whole movie. I think this would make a better book than a film and I would recommend you to read the book or to read about the story before even watching this film , because it was misleading to the point , and wasn't clear at all.\n",
      "\n",
      "\n",
      "Comentário sobre o filme: There where no lambs in the movie which was very bad as I though it was about farming not happy with this not recommend avid farmers like I. Very bad movie.\n"
     ]
    }
   ],
   "source": [
    "# o modelo recebe um commentário para ser classificado\n",
    "comentario_1 = str(input('Comentário sobre o filme: '))\n",
    "print('\\n')\n",
    "comentario_2 = str(input('Comentário sobre o filme: '))\n",
    "print('\\n')\n",
    "comentario_3 = str(input('Comentário sobre o filme: '))\n",
    "print('\\n')\n",
    "comentario_4 = str(input('Comentário sobre o filme: '))\n",
    "print('\\n')\n",
    "comentario_5 = str(input('Comentário sobre o filme: '))\n",
    "print('\\n')\n",
    "comentario_6 = str(input('Comentário sobre o filme: '))\n",
    "print('\\n')\n",
    "comentario_7 = str(input('Comentário sobre o filme: '))\n",
    "print('\\n')\n",
    "comentario_8 = str(input('Comentário sobre o filme: '))\n",
    "print('\\n')\n",
    "comentario_9 = str(input('Comentário sobre o filme: '))\n",
    "print('\\n')\n",
    "comentario_10 = str(input('Comentário sobre o filme: '))\n",
    "print('\\n')\n",
    "comentario_11 = str(input('Comentário sobre o filme: '))\n",
    "print('\\n')\n",
    "comentario_12 = str(input('Comentário sobre o filme: '))\n",
    "print('\\n')\n",
    "comentario_13 = str(input('Comentário sobre o filme: '))\n",
    "print('\\n')\n",
    "comentario_14 = str(input('Comentário sobre o filme: '))\n",
    "print('\\n')\n",
    "comentario_15 = str(input('Comentário sobre o filme: '))\n",
    "print('\\n')\n",
    "comentario_16 = str(input('Comentário sobre o filme: '))\n",
    "print('\\n')\n",
    "comentario_17 = str(input('Comentário sobre o filme: '))\n",
    "print('\\n')\n",
    "comentario_18 = str(input('Comentário sobre o filme: '))\n",
    "print('\\n')\n",
    "comentario_19 = str(input('Comentário sobre o filme: '))\n",
    "print('\\n')\n",
    "comentario_20 = str(input('Comentário sobre o filme: '))"
   ]
  },
  {
   "cell_type": "code",
   "execution_count": 110,
   "id": "97f8c1a2",
   "metadata": {},
   "outputs": [],
   "source": [
    "# a entrada é pré processada antes de passar pelo modelo\n",
    "regex = re.compile(r'[^a-zA-Z\\s]')\n",
    "comentario_1 = regex.sub('', comentario_1)\n",
    "comentario_2 = regex.sub('', comentario_2)\n",
    "comentario_3 = regex.sub('', comentario_3)\n",
    "comentario_4 = regex.sub('', comentario_4)\n",
    "comentario_5 = regex.sub('', comentario_5)\n",
    "comentario_6 = regex.sub('', comentario_6)\n",
    "comentario_7 = regex.sub('', comentario_7)\n",
    "comentario_8 = regex.sub('', comentario_8)\n",
    "comentario_9 = regex.sub('', comentario_9)\n",
    "comentario_10 = regex.sub('', comentario_10)\n",
    "comentario_11 = regex.sub('', comentario_11)\n",
    "comentario_12 = regex.sub('', comentario_12)\n",
    "comentario_13 = regex.sub('', comentario_13)\n",
    "comentario_14 = regex.sub('', comentario_14)\n",
    "comentario_15 = regex.sub('', comentario_15)\n",
    "comentario_16 = regex.sub('', comentario_16)\n",
    "comentario_17 = regex.sub('', comentario_17)\n",
    "comentario_18 = regex.sub('', comentario_18)\n",
    "comentario_19 = regex.sub('', comentario_19)\n",
    "comentario_20 = regex.sub('', comentario_20)\n",
    "#print('Comentário 1 tratado (negativo): ', comentario_1)\n",
    "#print('\\n')\n",
    "#print('Comentário 2 tratado (negativo): ', comentario_2)\n",
    "#print('\\n')\n",
    "#print('Comentário 3 tratado (positivo): ', comentario_3)\n",
    "#print('\\n')\n",
    "#print('Comentário 4 tratado (positivo): ', comentario_4)"
   ]
  },
  {
   "cell_type": "code",
   "execution_count": 111,
   "id": "06e299f2",
   "metadata": {},
   "outputs": [],
   "source": [
    "palavras = comentario_1.split(' ')\n",
    "filtro = [p for p in palavras if p not in eng_stops]\n",
    "filtro = ' '.join(filtro)\n",
    "filtro_1 = [filtro.lower()]\n"
   ]
  },
  {
   "cell_type": "code",
   "execution_count": 112,
   "id": "96bf0b76",
   "metadata": {},
   "outputs": [],
   "source": [
    "palavras = comentario_2.split(' ')\n",
    "filtro = [p for p in palavras if p not in eng_stops]\n",
    "filtro = ' '.join(filtro)\n",
    "filtro_2 = [filtro.lower()]\n"
   ]
  },
  {
   "cell_type": "code",
   "execution_count": 113,
   "id": "8e9cf1c9",
   "metadata": {},
   "outputs": [],
   "source": [
    "palavras = comentario_3.split(' ')\n",
    "filtro = [p for p in palavras if p not in eng_stops]\n",
    "filtro = ' '.join(filtro)\n",
    "filtro_3 = [filtro.lower()]\n"
   ]
  },
  {
   "cell_type": "code",
   "execution_count": 114,
   "id": "2891db68",
   "metadata": {},
   "outputs": [],
   "source": [
    "palavras = comentario_4.split(' ')\n",
    "filtro = [p for p in palavras if p not in eng_stops]\n",
    "filtro = ' '.join(filtro)\n",
    "filtro_4 = [filtro.lower()]\n"
   ]
  },
  {
   "cell_type": "code",
   "execution_count": 115,
   "id": "a157cb7d",
   "metadata": {},
   "outputs": [],
   "source": [
    "palavras = comentario_5.split(' ')\n",
    "filtro = [p for p in palavras if p not in eng_stops]\n",
    "filtro = ' '.join(filtro)\n",
    "filtro_5 = [filtro.lower()]\n"
   ]
  },
  {
   "cell_type": "code",
   "execution_count": 116,
   "id": "453f0b3d",
   "metadata": {},
   "outputs": [],
   "source": [
    "palavras = comentario_6.split(' ')\n",
    "filtro = [p for p in palavras if p not in eng_stops]\n",
    "filtro = ' '.join(filtro)\n",
    "filtro_6 = [filtro.lower()]\n"
   ]
  },
  {
   "cell_type": "code",
   "execution_count": 117,
   "id": "c1eaf3a9",
   "metadata": {},
   "outputs": [],
   "source": [
    "palavras = comentario_7.split(' ')\n",
    "filtro = [p for p in palavras if p not in eng_stops]\n",
    "filtro = ' '.join(filtro)\n",
    "filtro_7 = [filtro.lower()]\n"
   ]
  },
  {
   "cell_type": "code",
   "execution_count": 118,
   "id": "b4368f5b",
   "metadata": {},
   "outputs": [],
   "source": [
    "palavras = comentario_8.split(' ')\n",
    "filtro = [p for p in palavras if p not in eng_stops]\n",
    "filtro = ' '.join(filtro)\n",
    "filtro_8 = [filtro.lower()]\n"
   ]
  },
  {
   "cell_type": "code",
   "execution_count": 119,
   "id": "85760838",
   "metadata": {},
   "outputs": [],
   "source": [
    "palavras = comentario_9.split(' ')\n",
    "filtro = [p for p in palavras if p not in eng_stops]\n",
    "filtro = ' '.join(filtro)\n",
    "filtro_9 = [filtro.lower()]\n"
   ]
  },
  {
   "cell_type": "code",
   "execution_count": 120,
   "id": "78ffafa8",
   "metadata": {},
   "outputs": [],
   "source": [
    "palavras = comentario_10.split(' ')\n",
    "filtro = [p for p in palavras if p not in eng_stops]\n",
    "filtro = ' '.join(filtro)\n",
    "filtro_10 = [filtro.lower()]\n"
   ]
  },
  {
   "cell_type": "code",
   "execution_count": 121,
   "id": "a7c52330",
   "metadata": {},
   "outputs": [],
   "source": [
    "palavras = comentario_11.split(' ')\n",
    "filtro = [p for p in palavras if p not in eng_stops]\n",
    "filtro = ' '.join(filtro)\n",
    "filtro_11 = [filtro.lower()]\n"
   ]
  },
  {
   "cell_type": "code",
   "execution_count": 122,
   "id": "e577e808",
   "metadata": {},
   "outputs": [],
   "source": [
    "palavras = comentario_12.split(' ')\n",
    "filtro = [p for p in palavras if p not in eng_stops]\n",
    "filtro = ' '.join(filtro)\n",
    "filtro_12 = [filtro.lower()]\n"
   ]
  },
  {
   "cell_type": "code",
   "execution_count": 123,
   "id": "088cd64b",
   "metadata": {},
   "outputs": [],
   "source": [
    "palavras = comentario_13.split(' ')\n",
    "filtro = [p for p in palavras if p not in eng_stops]\n",
    "filtro = ' '.join(filtro)\n",
    "filtro_13 = [filtro.lower()]\n"
   ]
  },
  {
   "cell_type": "code",
   "execution_count": 124,
   "id": "55ee70a3",
   "metadata": {},
   "outputs": [],
   "source": [
    "palavras = comentario_14.split(' ')\n",
    "filtro = [p for p in palavras if p not in eng_stops]\n",
    "filtro = ' '.join(filtro)\n",
    "filtro_14 = [filtro.lower()]\n"
   ]
  },
  {
   "cell_type": "code",
   "execution_count": 125,
   "id": "8f2dfaa0",
   "metadata": {},
   "outputs": [],
   "source": [
    "palavras = comentario_15.split(' ')\n",
    "filtro = [p for p in palavras if p not in eng_stops]\n",
    "filtro = ' '.join(filtro)\n",
    "filtro_15 = [filtro.lower()]\n"
   ]
  },
  {
   "cell_type": "code",
   "execution_count": 126,
   "id": "8e5e469b",
   "metadata": {},
   "outputs": [],
   "source": [
    "palavras = comentario_16.split(' ')\n",
    "filtro = [p for p in palavras if p not in eng_stops]\n",
    "filtro = ' '.join(filtro)\n",
    "filtro_16 = [filtro.lower()]\n"
   ]
  },
  {
   "cell_type": "code",
   "execution_count": 127,
   "id": "c9c154cf",
   "metadata": {},
   "outputs": [],
   "source": [
    "palavras = comentario_17.split(' ')\n",
    "filtro = [p for p in palavras if p not in eng_stops]\n",
    "filtro = ' '.join(filtro)\n",
    "filtro_17 = [filtro.lower()]\n"
   ]
  },
  {
   "cell_type": "code",
   "execution_count": 128,
   "id": "bf300a3a",
   "metadata": {},
   "outputs": [],
   "source": [
    "palavras = comentario_18.split(' ')\n",
    "filtro = [p for p in palavras if p not in eng_stops]\n",
    "filtro = ' '.join(filtro)\n",
    "filtro_18 = [filtro.lower()]\n"
   ]
  },
  {
   "cell_type": "code",
   "execution_count": 129,
   "id": "3f1a091a",
   "metadata": {},
   "outputs": [],
   "source": [
    "palavras = comentario_19.split(' ')\n",
    "filtro = [p for p in palavras if p not in eng_stops]\n",
    "filtro = ' '.join(filtro)\n",
    "filtro_19 = [filtro.lower()]\n"
   ]
  },
  {
   "cell_type": "code",
   "execution_count": 130,
   "id": "0bde4e48",
   "metadata": {},
   "outputs": [],
   "source": [
    "palavras = comentario_20.split(' ')\n",
    "filtro = [p for p in palavras if p not in eng_stops]\n",
    "filtro = ' '.join(filtro)\n",
    "filtro_20 = [filtro.lower()]\n"
   ]
  },
  {
   "cell_type": "code",
   "execution_count": 131,
   "id": "ab199372",
   "metadata": {
    "scrolled": true
   },
   "outputs": [
    {
     "name": "stdout",
     "output_type": "stream",
     "text": [
      "[[    1    40  1009    66     4    84   226    94    26  1053   139   470\n",
      "    260     4   159   650   516   260  8925 19104   370     4    50   350\n",
      "    705     1  9122     1    98     4   123    55     0     0     0     0\n",
      "      0     0     0     0     0     0     0     0     0     0     0     0\n",
      "      0     0     0     0     0     0     0     0     0     0     0     0\n",
      "      0     0     0     0     0     0     0     0     0     0     0     0\n",
      "      0     0     0     0     0     0     0     0     0     0     0     0\n",
      "      0     0     0     0     0     0     0     0     0     0     0     0\n",
      "      0     0     0     0     0     0     0     0     0     0     0     0\n",
      "      0     0     0     0     0     0     0     0     0     0     0     0\n",
      "      0     0     0     0     0     0     0     0     0     0]]\n"
     ]
    }
   ],
   "source": [
    "# as palavras são codificadas \n",
    "palavras_codificadas_1 = token.texts_to_sequences(filtro_1)\n",
    "palavras_codificadas_1 = pad_sequences(palavras_codificadas_1, maxlen=max_len, padding='post', truncating='post')\n",
    "print(palavras_codificadas_1)"
   ]
  },
  {
   "cell_type": "code",
   "execution_count": 132,
   "id": "dbdabb4b",
   "metadata": {},
   "outputs": [
    {
     "name": "stdout",
     "output_type": "stream",
     "text": [
      "[[    7   338    14   954   260   413     1   339  5216    25   783     5\n",
      "    840   129  1081  6809   322 83058    24     4  3084   120    53     0\n",
      "      0     0     0     0     0     0     0     0     0     0     0     0\n",
      "      0     0     0     0     0     0     0     0     0     0     0     0\n",
      "      0     0     0     0     0     0     0     0     0     0     0     0\n",
      "      0     0     0     0     0     0     0     0     0     0     0     0\n",
      "      0     0     0     0     0     0     0     0     0     0     0     0\n",
      "      0     0     0     0     0     0     0     0     0     0     0     0\n",
      "      0     0     0     0     0     0     0     0     0     0     0     0\n",
      "      0     0     0     0     0     0     0     0     0     0     0     0\n",
      "      0     0     0     0     0     0     0     0     0     0]]\n"
     ]
    }
   ],
   "source": [
    "# as palavras são codificadas \n",
    "palavras_codificadas_2 = token.texts_to_sequences(filtro_2)\n",
    "palavras_codificadas_2 = pad_sequences(palavras_codificadas_2, maxlen=max_len, padding='post', truncating='post')\n",
    "print(palavras_codificadas_2)"
   ]
  },
  {
   "cell_type": "code",
   "execution_count": 133,
   "id": "13544282",
   "metadata": {},
   "outputs": [
    {
     "name": "stdout",
     "output_type": "stream",
     "text": [
      "[[   1  137    6  914   19  463 1069  167   70  126   30   13   20    1\n",
      "   459   10  740 4479   80    0    0    0    0    0    0    0    0    0\n",
      "     0    0    0    0    0    0    0    0    0    0    0    0    0    0\n",
      "     0    0    0    0    0    0    0    0    0    0    0    0    0    0\n",
      "     0    0    0    0    0    0    0    0    0    0    0    0    0    0\n",
      "     0    0    0    0    0    0    0    0    0    0    0    0    0    0\n",
      "     0    0    0    0    0    0    0    0    0    0    0    0    0    0\n",
      "     0    0    0    0    0    0    0    0    0    0    0    0    0    0\n",
      "     0    0    0    0    0    0    0    0    0    0    0    0    0    0\n",
      "     0    0    0    0]]\n"
     ]
    }
   ],
   "source": [
    "# as palavras são codificadas \n",
    "palavras_codificadas_3 = token.texts_to_sequences(filtro_3)\n",
    "palavras_codificadas_3 = pad_sequences(palavras_codificadas_3, maxlen=max_len, padding='post', truncating='post')\n",
    "print(palavras_codificadas_3)"
   ]
  },
  {
   "cell_type": "code",
   "execution_count": 134,
   "id": "0e4ca5ea",
   "metadata": {},
   "outputs": [
    {
     "name": "stdout",
     "output_type": "stream",
     "text": [
      "[[    1  1009     3     7   135   115   280     3    18    13     1  5216\n",
      "  19045     3   449    89   678  1594     3     0     0     0     0     0\n",
      "      0     0     0     0     0     0     0     0     0     0     0     0\n",
      "      0     0     0     0     0     0     0     0     0     0     0     0\n",
      "      0     0     0     0     0     0     0     0     0     0     0     0\n",
      "      0     0     0     0     0     0     0     0     0     0     0     0\n",
      "      0     0     0     0     0     0     0     0     0     0     0     0\n",
      "      0     0     0     0     0     0     0     0     0     0     0     0\n",
      "      0     0     0     0     0     0     0     0     0     0     0     0\n",
      "      0     0     0     0     0     0     0     0     0     0     0     0\n",
      "      0     0     0     0     0     0     0     0     0     0]]\n"
     ]
    }
   ],
   "source": [
    "# as palavras são codificadas \n",
    "palavras_codificadas_4 = token.texts_to_sequences(filtro_4)\n",
    "palavras_codificadas_4 = pad_sequences(palavras_codificadas_4, maxlen=max_len, padding='post', truncating='post')\n",
    "print(palavras_codificadas_4)"
   ]
  },
  {
   "cell_type": "code",
   "execution_count": 135,
   "id": "af97d541",
   "metadata": {},
   "outputs": [
    {
     "name": "stdout",
     "output_type": "stream",
     "text": [
      "[[ 727    9  383   20   12   45   33 1092  936 8464  112  784  614 1325\n",
      "     0    0    0    0    0    0    0    0    0    0    0    0    0    0\n",
      "     0    0    0    0    0    0    0    0    0    0    0    0    0    0\n",
      "     0    0    0    0    0    0    0    0    0    0    0    0    0    0\n",
      "     0    0    0    0    0    0    0    0    0    0    0    0    0    0\n",
      "     0    0    0    0    0    0    0    0    0    0    0    0    0    0\n",
      "     0    0    0    0    0    0    0    0    0    0    0    0    0    0\n",
      "     0    0    0    0    0    0    0    0    0    0    0    0    0    0\n",
      "     0    0    0    0    0    0    0    0    0    0    0    0    0    0\n",
      "     0    0    0    0]]\n"
     ]
    }
   ],
   "source": [
    "palavras_codificadas_5 = token.texts_to_sequences(filtro_5)\n",
    "palavras_codificadas_5 = pad_sequences(palavras_codificadas_5, maxlen=max_len, padding='post', truncating='post')\n",
    "print(palavras_codificadas_5)"
   ]
  },
  {
   "cell_type": "code",
   "execution_count": 136,
   "id": "dfc076b9",
   "metadata": {},
   "outputs": [
    {
     "name": "stdout",
     "output_type": "stream",
     "text": [
      "[[    1   570   704     1   114    84     9   742     2     3     9   466\n",
      "      2    41     4    73    91  6784    22  1728  4094    29    16  1302\n",
      "     11    13   415    29   641     2  2467     4   734   294   727    14\n",
      "    515 14335     4  1085  2813    14    18    41     0     0     0     0\n",
      "      0     0     0     0     0     0     0     0     0     0     0     0\n",
      "      0     0     0     0     0     0     0     0     0     0     0     0\n",
      "      0     0     0     0     0     0     0     0     0     0     0     0\n",
      "      0     0     0     0     0     0     0     0     0     0     0     0\n",
      "      0     0     0     0     0     0     0     0     0     0     0     0\n",
      "      0     0     0     0     0     0     0     0     0     0     0     0\n",
      "      0     0     0     0     0     0     0     0     0     0]]\n"
     ]
    }
   ],
   "source": [
    "palavras_codificadas_6 = token.texts_to_sequences(filtro_6)\n",
    "palavras_codificadas_6 = pad_sequences(palavras_codificadas_6, maxlen=max_len, padding='post', truncating='post')\n",
    "print(palavras_codificadas_6)"
   ]
  },
  {
   "cell_type": "code",
   "execution_count": 137,
   "id": "5ca0b324",
   "metadata": {},
   "outputs": [
    {
     "name": "stdout",
     "output_type": "stream",
     "text": [
      "[[  43  395    9  369  787 1825  159  157   21  630  209  566 5216  353\n",
      "   194  260   13  759 6385 1118    0    0    0    0    0    0    0    0\n",
      "     0    0    0    0    0    0    0    0    0    0    0    0    0    0\n",
      "     0    0    0    0    0    0    0    0    0    0    0    0    0    0\n",
      "     0    0    0    0    0    0    0    0    0    0    0    0    0    0\n",
      "     0    0    0    0    0    0    0    0    0    0    0    0    0    0\n",
      "     0    0    0    0    0    0    0    0    0    0    0    0    0    0\n",
      "     0    0    0    0    0    0    0    0    0    0    0    0    0    0\n",
      "     0    0    0    0    0    0    0    0    0    0    0    0    0    0\n",
      "     0    0    0    0]]\n"
     ]
    }
   ],
   "source": [
    "palavras_codificadas_7 = token.texts_to_sequences(filtro_7)\n",
    "palavras_codificadas_7 = pad_sequences(palavras_codificadas_7, maxlen=max_len, padding='post', truncating='post')\n",
    "print(palavras_codificadas_7)"
   ]
  },
  {
   "cell_type": "code",
   "execution_count": 138,
   "id": "3a122539",
   "metadata": {},
   "outputs": [
    {
     "name": "stdout",
     "output_type": "stream",
     "text": [
      "[[ 727 2526   30   26 1389  100  260  569    0    0    0    0    0    0\n",
      "     0    0    0    0    0    0    0    0    0    0    0    0    0    0\n",
      "     0    0    0    0    0    0    0    0    0    0    0    0    0    0\n",
      "     0    0    0    0    0    0    0    0    0    0    0    0    0    0\n",
      "     0    0    0    0    0    0    0    0    0    0    0    0    0    0\n",
      "     0    0    0    0    0    0    0    0    0    0    0    0    0    0\n",
      "     0    0    0    0    0    0    0    0    0    0    0    0    0    0\n",
      "     0    0    0    0    0    0    0    0    0    0    0    0    0    0\n",
      "     0    0    0    0    0    0    0    0    0    0    0    0    0    0\n",
      "     0    0    0    0]]\n"
     ]
    }
   ],
   "source": [
    "palavras_codificadas_8 = token.texts_to_sequences(filtro_8)\n",
    "palavras_codificadas_8 = pad_sequences(palavras_codificadas_8, maxlen=max_len, padding='post', truncating='post')\n",
    "print(palavras_codificadas_8)"
   ]
  },
  {
   "cell_type": "code",
   "execution_count": 139,
   "id": "cba84ae4",
   "metadata": {},
   "outputs": [
    {
     "name": "stdout",
     "output_type": "stream",
     "text": [
      "[[  105   353    10   669 44248   127    33  1553    65   102   456   100\n",
      "   1353     7   135   206  4911     0     0     0     0     0     0     0\n",
      "      0     0     0     0     0     0     0     0     0     0     0     0\n",
      "      0     0     0     0     0     0     0     0     0     0     0     0\n",
      "      0     0     0     0     0     0     0     0     0     0     0     0\n",
      "      0     0     0     0     0     0     0     0     0     0     0     0\n",
      "      0     0     0     0     0     0     0     0     0     0     0     0\n",
      "      0     0     0     0     0     0     0     0     0     0     0     0\n",
      "      0     0     0     0     0     0     0     0     0     0     0     0\n",
      "      0     0     0     0     0     0     0     0     0     0     0     0\n",
      "      0     0     0     0     0     0     0     0     0     0]]\n"
     ]
    }
   ],
   "source": [
    "palavras_codificadas_9 = token.texts_to_sequences(filtro_9)\n",
    "palavras_codificadas_9 = pad_sequences(palavras_codificadas_9, maxlen=max_len, padding='post', truncating='post')\n",
    "print(palavras_codificadas_9)"
   ]
  },
  {
   "cell_type": "code",
   "execution_count": 140,
   "id": "576c2851",
   "metadata": {},
   "outputs": [
    {
     "name": "stdout",
     "output_type": "stream",
     "text": [
      "[[  279  1433   304  4573   534   260     1   365    22   592  2241   821\n",
      "   1199     1   968   279  1683   260    13   890 13022   852     0     0\n",
      "      0     0     0     0     0     0     0     0     0     0     0     0\n",
      "      0     0     0     0     0     0     0     0     0     0     0     0\n",
      "      0     0     0     0     0     0     0     0     0     0     0     0\n",
      "      0     0     0     0     0     0     0     0     0     0     0     0\n",
      "      0     0     0     0     0     0     0     0     0     0     0     0\n",
      "      0     0     0     0     0     0     0     0     0     0     0     0\n",
      "      0     0     0     0     0     0     0     0     0     0     0     0\n",
      "      0     0     0     0     0     0     0     0     0     0     0     0\n",
      "      0     0     0     0     0     0     0     0     0     0]]\n"
     ]
    }
   ],
   "source": [
    "palavras_codificadas_10 = token.texts_to_sequences(filtro_10)\n",
    "palavras_codificadas_10 = pad_sequences(palavras_codificadas_10, maxlen=max_len, padding='post', truncating='post')\n",
    "print(palavras_codificadas_10)"
   ]
  },
  {
   "cell_type": "code",
   "execution_count": 141,
   "id": "49a018af",
   "metadata": {},
   "outputs": [
    {
     "name": "stdout",
     "output_type": "stream",
     "text": [
      "[[ 2107   267  1429 91915 16470   362  2583  4460 21833 11925   735  1943\n",
      "  10366    54  1687    88   191    23   112  5109     0     0     0     0\n",
      "      0     0     0     0     0     0     0     0     0     0     0     0\n",
      "      0     0     0     0     0     0     0     0     0     0     0     0\n",
      "      0     0     0     0     0     0     0     0     0     0     0     0\n",
      "      0     0     0     0     0     0     0     0     0     0     0     0\n",
      "      0     0     0     0     0     0     0     0     0     0     0     0\n",
      "      0     0     0     0     0     0     0     0     0     0     0     0\n",
      "      0     0     0     0     0     0     0     0     0     0     0     0\n",
      "      0     0     0     0     0     0     0     0     0     0     0     0\n",
      "      0     0     0     0     0     0     0     0     0     0]]\n"
     ]
    }
   ],
   "source": [
    "palavras_codificadas_11 = token.texts_to_sequences(filtro_11)\n",
    "palavras_codificadas_11 = pad_sequences(palavras_codificadas_11, maxlen=max_len, padding='post', truncating='post')\n",
    "print(palavras_codificadas_11)"
   ]
  },
  {
   "cell_type": "code",
   "execution_count": 142,
   "id": "28fea5ae",
   "metadata": {},
   "outputs": [
    {
     "name": "stdout",
     "output_type": "stream",
     "text": [
      "[[   44   260    27    33  2305    55  8651   555   728 12115     9  1011\n",
      "   1566  4528  1476   756     0     0     0     0     0     0     0     0\n",
      "      0     0     0     0     0     0     0     0     0     0     0     0\n",
      "      0     0     0     0     0     0     0     0     0     0     0     0\n",
      "      0     0     0     0     0     0     0     0     0     0     0     0\n",
      "      0     0     0     0     0     0     0     0     0     0     0     0\n",
      "      0     0     0     0     0     0     0     0     0     0     0     0\n",
      "      0     0     0     0     0     0     0     0     0     0     0     0\n",
      "      0     0     0     0     0     0     0     0     0     0     0     0\n",
      "      0     0     0     0     0     0     0     0     0     0     0     0\n",
      "      0     0     0     0     0     0     0     0     0     0]]\n"
     ]
    }
   ],
   "source": [
    "palavras_codificadas_12 = token.texts_to_sequences(filtro_12)\n",
    "palavras_codificadas_12 = pad_sequences(palavras_codificadas_12, maxlen=max_len, padding='post', truncating='post')\n",
    "print(palavras_codificadas_12)"
   ]
  },
  {
   "cell_type": "code",
   "execution_count": 143,
   "id": "a6deeed8",
   "metadata": {},
   "outputs": [
    {
     "name": "stdout",
     "output_type": "stream",
     "text": [
      "[[  260   762  1028  6281  9743   728 12115  4171   122   354    43    18\n",
      "      2   383   106  5538  1474   982     1   110   263   566   353    10\n",
      "      0     0     0     0     0     0     0     0     0     0     0     0\n",
      "      0     0     0     0     0     0     0     0     0     0     0     0\n",
      "      0     0     0     0     0     0     0     0     0     0     0     0\n",
      "      0     0     0     0     0     0     0     0     0     0     0     0\n",
      "      0     0     0     0     0     0     0     0     0     0     0     0\n",
      "      0     0     0     0     0     0     0     0     0     0     0     0\n",
      "      0     0     0     0     0     0     0     0     0     0     0     0\n",
      "      0     0     0     0     0     0     0     0     0     0     0     0\n",
      "      0     0     0     0     0     0     0     0     0     0]]\n"
     ]
    }
   ],
   "source": [
    "palavras_codificadas_13 = token.texts_to_sequences(filtro_13)\n",
    "palavras_codificadas_13 = pad_sequences(palavras_codificadas_13, maxlen=max_len, padding='post', truncating='post')\n",
    "print(palavras_codificadas_13)"
   ]
  },
  {
   "cell_type": "code",
   "execution_count": 144,
   "id": "2627fc67",
   "metadata": {},
   "outputs": [
    {
     "name": "stdout",
     "output_type": "stream",
     "text": [
      "[[   1 1358    1  838 2752 7583 8071    7  914    2  708 9475 4272  653\n",
      "     1  914   10    3   53   28    0    0    0    0    0    0    0    0\n",
      "     0    0    0    0    0    0    0    0    0    0    0    0    0    0\n",
      "     0    0    0    0    0    0    0    0    0    0    0    0    0    0\n",
      "     0    0    0    0    0    0    0    0    0    0    0    0    0    0\n",
      "     0    0    0    0    0    0    0    0    0    0    0    0    0    0\n",
      "     0    0    0    0    0    0    0    0    0    0    0    0    0    0\n",
      "     0    0    0    0    0    0    0    0    0    0    0    0    0    0\n",
      "     0    0    0    0    0    0    0    0    0    0    0    0    0    0\n",
      "     0    0    0    0]]\n"
     ]
    }
   ],
   "source": [
    "palavras_codificadas_14 = token.texts_to_sequences(filtro_14)\n",
    "palavras_codificadas_14 = pad_sequences(palavras_codificadas_14, maxlen=max_len, padding='post', truncating='post')\n",
    "print(palavras_codificadas_14)"
   ]
  },
  {
   "cell_type": "code",
   "execution_count": 145,
   "id": "fe51a765",
   "metadata": {},
   "outputs": [
    {
     "name": "stdout",
     "output_type": "stream",
     "text": [
      "[[   16  2510   391    43     2  1370   852   453   554   853    26  1548\n",
      "    961     1    14  2173  2013  2173    61  5538 14751   486    17     0\n",
      "      0     0     0     0     0     0     0     0     0     0     0     0\n",
      "      0     0     0     0     0     0     0     0     0     0     0     0\n",
      "      0     0     0     0     0     0     0     0     0     0     0     0\n",
      "      0     0     0     0     0     0     0     0     0     0     0     0\n",
      "      0     0     0     0     0     0     0     0     0     0     0     0\n",
      "      0     0     0     0     0     0     0     0     0     0     0     0\n",
      "      0     0     0     0     0     0     0     0     0     0     0     0\n",
      "      0     0     0     0     0     0     0     0     0     0     0     0\n",
      "      0     0     0     0     0     0     0     0     0     0]]\n"
     ]
    }
   ],
   "source": [
    "palavras_codificadas_15 = token.texts_to_sequences(filtro_15)\n",
    "palavras_codificadas_15 = pad_sequences(palavras_codificadas_15, maxlen=max_len, padding='post', truncating='post')\n",
    "print(palavras_codificadas_15)"
   ]
  },
  {
   "cell_type": "code",
   "execution_count": 146,
   "id": "b5c716b2",
   "metadata": {},
   "outputs": [
    {
     "name": "stdout",
     "output_type": "stream",
     "text": [
      "[[ 3842  1912    39  8796   739     1   386    25    55    36 27186     1\n",
      "     14   360   110   509  5216   353    10     0     0     0     0     0\n",
      "      0     0     0     0     0     0     0     0     0     0     0     0\n",
      "      0     0     0     0     0     0     0     0     0     0     0     0\n",
      "      0     0     0     0     0     0     0     0     0     0     0     0\n",
      "      0     0     0     0     0     0     0     0     0     0     0     0\n",
      "      0     0     0     0     0     0     0     0     0     0     0     0\n",
      "      0     0     0     0     0     0     0     0     0     0     0     0\n",
      "      0     0     0     0     0     0     0     0     0     0     0     0\n",
      "      0     0     0     0     0     0     0     0     0     0     0     0\n",
      "      0     0     0     0     0     0     0     0     0     0]]\n"
     ]
    }
   ],
   "source": [
    "palavras_codificadas_16 = token.texts_to_sequences(filtro_16)\n",
    "palavras_codificadas_16 = pad_sequences(palavras_codificadas_16, maxlen=max_len, padding='post', truncating='post')\n",
    "print(palavras_codificadas_16)"
   ]
  },
  {
   "cell_type": "code",
   "execution_count": 147,
   "id": "bd93253b",
   "metadata": {},
   "outputs": [
    {
     "name": "stdout",
     "output_type": "stream",
     "text": [
      "[[    1    47    28   895   194   123 13288   101    22  1376   119    33\n",
      "  14183  1566  4528   461   507  1034   194  1512    87     0     0     0\n",
      "      0     0     0     0     0     0     0     0     0     0     0     0\n",
      "      0     0     0     0     0     0     0     0     0     0     0     0\n",
      "      0     0     0     0     0     0     0     0     0     0     0     0\n",
      "      0     0     0     0     0     0     0     0     0     0     0     0\n",
      "      0     0     0     0     0     0     0     0     0     0     0     0\n",
      "      0     0     0     0     0     0     0     0     0     0     0     0\n",
      "      0     0     0     0     0     0     0     0     0     0     0     0\n",
      "      0     0     0     0     0     0     0     0     0     0     0     0\n",
      "      0     0     0     0     0     0     0     0     0     0]]\n"
     ]
    }
   ],
   "source": [
    "palavras_codificadas_17 = token.texts_to_sequences(filtro_17)\n",
    "palavras_codificadas_17 = pad_sequences(palavras_codificadas_17, maxlen=max_len, padding='post', truncating='post')\n",
    "print(palavras_codificadas_17)"
   ]
  },
  {
   "cell_type": "code",
   "execution_count": 148,
   "id": "65b00917",
   "metadata": {},
   "outputs": [
    {
     "name": "stdout",
     "output_type": "stream",
     "text": [
      "[[   1   14  102 1009   66 1727    1   19 2173   66 4689   28   30    1\n",
      "    14 1009    3 4272 1140  129 2746 2321    0    0    0    0    0    0\n",
      "     0    0    0    0    0    0    0    0    0    0    0    0    0    0\n",
      "     0    0    0    0    0    0    0    0    0    0    0    0    0    0\n",
      "     0    0    0    0    0    0    0    0    0    0    0    0    0    0\n",
      "     0    0    0    0    0    0    0    0    0    0    0    0    0    0\n",
      "     0    0    0    0    0    0    0    0    0    0    0    0    0    0\n",
      "     0    0    0    0    0    0    0    0    0    0    0    0    0    0\n",
      "     0    0    0    0    0    0    0    0    0    0    0    0    0    0\n",
      "     0    0    0    0]]\n"
     ]
    }
   ],
   "source": [
    "palavras_codificadas_18 = token.texts_to_sequences(filtro_18)\n",
    "palavras_codificadas_18 = pad_sequences(palavras_codificadas_18, maxlen=max_len, padding='post', truncating='post')\n",
    "print(palavras_codificadas_18)"
   ]
  },
  {
   "cell_type": "code",
   "execution_count": 149,
   "id": "fc3e3394",
   "metadata": {},
   "outputs": [
    {
     "name": "stdout",
     "output_type": "stream",
     "text": [
      "[[    1   291  1166     4   414    24   787   260     3   100   697  3073\n",
      "     33   370   130     3     1    31    12    25    53   173     4     1\n",
      "     12   282   245   173   245    13    11    66     4  5375   126 13471\n",
      "    641     0     0     0     0     0     0     0     0     0     0     0\n",
      "      0     0     0     0     0     0     0     0     0     0     0     0\n",
      "      0     0     0     0     0     0     0     0     0     0     0     0\n",
      "      0     0     0     0     0     0     0     0     0     0     0     0\n",
      "      0     0     0     0     0     0     0     0     0     0     0     0\n",
      "      0     0     0     0     0     0     0     0     0     0     0     0\n",
      "      0     0     0     0     0     0     0     0     0     0     0     0\n",
      "      0     0     0     0     0     0     0     0     0     0]]\n"
     ]
    }
   ],
   "source": [
    "palavras_codificadas_19 = token.texts_to_sequences(filtro_19)\n",
    "palavras_codificadas_19 = pad_sequences(palavras_codificadas_19, maxlen=max_len, padding='post', truncating='post')\n",
    "print(palavras_codificadas_19)"
   ]
  },
  {
   "cell_type": "code",
   "execution_count": 150,
   "id": "27a3de52",
   "metadata": {},
   "outputs": [
    {
     "name": "stdout",
     "output_type": "stream",
     "text": [
      "[[    1  1009     3     7   135   115   280     3    18    13     1  5216\n",
      "  19045     3   449    89   678  1594     3     0     0     0     0     0\n",
      "      0     0     0     0     0     0     0     0     0     0     0     0\n",
      "      0     0     0     0     0     0     0     0     0     0     0     0\n",
      "      0     0     0     0     0     0     0     0     0     0     0     0\n",
      "      0     0     0     0     0     0     0     0     0     0     0     0\n",
      "      0     0     0     0     0     0     0     0     0     0     0     0\n",
      "      0     0     0     0     0     0     0     0     0     0     0     0\n",
      "      0     0     0     0     0     0     0     0     0     0     0     0\n",
      "      0     0     0     0     0     0     0     0     0     0     0     0\n",
      "      0     0     0     0     0     0     0     0     0     0]]\n"
     ]
    }
   ],
   "source": [
    "palavras_codificadas_20 = token.texts_to_sequences(filtro_20)\n",
    "palavras_codificadas_20 = pad_sequences(palavras_codificadas_20, maxlen=max_len, padding='post', truncating='post')\n",
    "print(palavras_codificadas_4)"
   ]
  },
  {
   "cell_type": "code",
   "execution_count": 151,
   "id": "68fd2ca6",
   "metadata": {},
   "outputs": [
    {
     "name": "stdout",
     "output_type": "stream",
     "text": [
      "[[0.00535288]]\n"
     ]
    }
   ],
   "source": [
    "# pontuação de confiança do previsão da classe do comentário\n",
    "resultado_1 = loaded_model.predict(palavras_codificadas_1)\n",
    "print(resultado_1)"
   ]
  },
  {
   "cell_type": "code",
   "execution_count": 152,
   "id": "217020fd",
   "metadata": {},
   "outputs": [
    {
     "name": "stdout",
     "output_type": "stream",
     "text": [
      "[[0.00888306]]\n"
     ]
    }
   ],
   "source": [
    "resultado_2 = loaded_model.predict(palavras_codificadas_2)\n",
    "print(resultado_2)"
   ]
  },
  {
   "cell_type": "code",
   "execution_count": 153,
   "id": "266fdf5b",
   "metadata": {},
   "outputs": [
    {
     "name": "stdout",
     "output_type": "stream",
     "text": [
      "[[0.4441603]]\n"
     ]
    }
   ],
   "source": [
    "resultado_3 = loaded_model.predict(palavras_codificadas_3)\n",
    "print(resultado_3)"
   ]
  },
  {
   "cell_type": "code",
   "execution_count": 154,
   "id": "45f54fda",
   "metadata": {},
   "outputs": [
    {
     "name": "stdout",
     "output_type": "stream",
     "text": [
      "[[0.00578529]]\n"
     ]
    }
   ],
   "source": [
    "resultado_4 = loaded_model.predict(palavras_codificadas_4)\n",
    "print(resultado_4)"
   ]
  },
  {
   "cell_type": "code",
   "execution_count": 155,
   "id": "b2c0f9bb",
   "metadata": {},
   "outputs": [
    {
     "name": "stdout",
     "output_type": "stream",
     "text": [
      "[[0.9515253]]\n"
     ]
    }
   ],
   "source": [
    "resultado_5 = loaded_model.predict(palavras_codificadas_5)\n",
    "print(resultado_5)"
   ]
  },
  {
   "cell_type": "code",
   "execution_count": 156,
   "id": "7eb081fb",
   "metadata": {},
   "outputs": [
    {
     "name": "stdout",
     "output_type": "stream",
     "text": [
      "[[0.00801575]]\n"
     ]
    }
   ],
   "source": [
    "resultado_6 = loaded_model.predict(palavras_codificadas_6)\n",
    "print(resultado_6)"
   ]
  },
  {
   "cell_type": "code",
   "execution_count": 157,
   "id": "b4f25690",
   "metadata": {},
   "outputs": [
    {
     "name": "stdout",
     "output_type": "stream",
     "text": [
      "[[0.00528976]]\n"
     ]
    }
   ],
   "source": [
    "resultado_7 = loaded_model.predict(palavras_codificadas_7)\n",
    "print(resultado_7)"
   ]
  },
  {
   "cell_type": "code",
   "execution_count": 158,
   "id": "4dafdde3",
   "metadata": {},
   "outputs": [
    {
     "name": "stdout",
     "output_type": "stream",
     "text": [
      "[[0.00578529]]\n"
     ]
    }
   ],
   "source": [
    "resultado_4 = loaded_model.predict(palavras_codificadas_4)\n",
    "print(resultado_4)"
   ]
  },
  {
   "cell_type": "code",
   "execution_count": 159,
   "id": "0443b901",
   "metadata": {},
   "outputs": [
    {
     "name": "stdout",
     "output_type": "stream",
     "text": [
      "[[0.9515253]]\n"
     ]
    }
   ],
   "source": [
    "resultado_5 = loaded_model.predict(palavras_codificadas_5)\n",
    "print(resultado_5)"
   ]
  },
  {
   "cell_type": "code",
   "execution_count": 160,
   "id": "dadd5be9",
   "metadata": {},
   "outputs": [
    {
     "name": "stdout",
     "output_type": "stream",
     "text": [
      "[[0.00801575]]\n"
     ]
    }
   ],
   "source": [
    "resultado_6 = loaded_model.predict(palavras_codificadas_6)\n",
    "print(resultado_6)"
   ]
  },
  {
   "cell_type": "code",
   "execution_count": 161,
   "id": "6b9bf295",
   "metadata": {},
   "outputs": [
    {
     "name": "stdout",
     "output_type": "stream",
     "text": [
      "[[0.00528976]]\n"
     ]
    }
   ],
   "source": [
    "resultado_7 = loaded_model.predict(palavras_codificadas_7)\n",
    "print(resultado_7)"
   ]
  },
  {
   "cell_type": "code",
   "execution_count": 162,
   "id": "4fa06c8c",
   "metadata": {},
   "outputs": [
    {
     "name": "stdout",
     "output_type": "stream",
     "text": [
      "[[0.00679103]]\n"
     ]
    }
   ],
   "source": [
    "resultado_8 = loaded_model.predict(palavras_codificadas_8)\n",
    "print(resultado_8)"
   ]
  },
  {
   "cell_type": "code",
   "execution_count": 163,
   "id": "8967f148",
   "metadata": {},
   "outputs": [
    {
     "name": "stdout",
     "output_type": "stream",
     "text": [
      "[[0.00647989]]\n"
     ]
    }
   ],
   "source": [
    "resultado_9 = loaded_model.predict(palavras_codificadas_9)\n",
    "print(resultado_9)"
   ]
  },
  {
   "cell_type": "code",
   "execution_count": 164,
   "id": "8d0aff5d",
   "metadata": {},
   "outputs": [
    {
     "name": "stdout",
     "output_type": "stream",
     "text": [
      "[[0.00521457]]\n"
     ]
    }
   ],
   "source": [
    "resultado_10 = loaded_model.predict(palavras_codificadas_10)\n",
    "print(resultado_10)"
   ]
  },
  {
   "cell_type": "code",
   "execution_count": 165,
   "id": "4341ce08",
   "metadata": {},
   "outputs": [
    {
     "name": "stdout",
     "output_type": "stream",
     "text": [
      "[[0.00812563]]\n"
     ]
    }
   ],
   "source": [
    "resultado_11 = loaded_model.predict(palavras_codificadas_11)\n",
    "print(resultado_11)"
   ]
  },
  {
   "cell_type": "code",
   "execution_count": 166,
   "id": "49e490d1",
   "metadata": {},
   "outputs": [
    {
     "name": "stdout",
     "output_type": "stream",
     "text": [
      "[[0.0517298]]\n"
     ]
    }
   ],
   "source": [
    "resultado_12 = loaded_model.predict(palavras_codificadas_12)\n",
    "print(resultado_12)"
   ]
  },
  {
   "cell_type": "code",
   "execution_count": 167,
   "id": "3df0290c",
   "metadata": {},
   "outputs": [
    {
     "name": "stdout",
     "output_type": "stream",
     "text": [
      "[[0.00705668]]\n"
     ]
    }
   ],
   "source": [
    "resultado_13 = loaded_model.predict(palavras_codificadas_13)\n",
    "print(resultado_13)"
   ]
  },
  {
   "cell_type": "code",
   "execution_count": 168,
   "id": "804c79e6",
   "metadata": {},
   "outputs": [
    {
     "name": "stdout",
     "output_type": "stream",
     "text": [
      "[[0.0112986]]\n"
     ]
    }
   ],
   "source": [
    "resultado_14 = loaded_model.predict(palavras_codificadas_14)\n",
    "print(resultado_14)"
   ]
  },
  {
   "cell_type": "code",
   "execution_count": 169,
   "id": "b14f787f",
   "metadata": {},
   "outputs": [
    {
     "name": "stdout",
     "output_type": "stream",
     "text": [
      "[[0.00599733]]\n"
     ]
    }
   ],
   "source": [
    "resultado_15 = loaded_model.predict(palavras_codificadas_15)\n",
    "print(resultado_15)"
   ]
  },
  {
   "cell_type": "code",
   "execution_count": 170,
   "id": "8f566d59",
   "metadata": {},
   "outputs": [
    {
     "name": "stdout",
     "output_type": "stream",
     "text": [
      "[[0.00607622]]\n"
     ]
    }
   ],
   "source": [
    "resultado_16 = loaded_model.predict(palavras_codificadas_16)\n",
    "print(resultado_16)"
   ]
  },
  {
   "cell_type": "code",
   "execution_count": 171,
   "id": "58211d46",
   "metadata": {},
   "outputs": [
    {
     "name": "stdout",
     "output_type": "stream",
     "text": [
      "[[0.09006563]]\n"
     ]
    }
   ],
   "source": [
    "resultado_17 = loaded_model.predict(palavras_codificadas_17)\n",
    "print(resultado_17)"
   ]
  },
  {
   "cell_type": "code",
   "execution_count": 172,
   "id": "55558011",
   "metadata": {},
   "outputs": [
    {
     "name": "stdout",
     "output_type": "stream",
     "text": [
      "[[0.0326027]]\n"
     ]
    }
   ],
   "source": [
    "resultado_18 = loaded_model.predict(palavras_codificadas_18)\n",
    "print(resultado_18)"
   ]
  },
  {
   "cell_type": "code",
   "execution_count": 173,
   "id": "e6e1e86a",
   "metadata": {},
   "outputs": [
    {
     "name": "stdout",
     "output_type": "stream",
     "text": [
      "[[0.00611016]]\n"
     ]
    }
   ],
   "source": [
    "resultado_19 = loaded_model.predict(palavras_codificadas_19)\n",
    "print(resultado_19)"
   ]
  },
  {
   "cell_type": "code",
   "execution_count": 174,
   "id": "322e97a8",
   "metadata": {},
   "outputs": [
    {
     "name": "stdout",
     "output_type": "stream",
     "text": [
      "[[0.08239356]]\n"
     ]
    }
   ],
   "source": [
    "resultado_20 = loaded_model.predict(palavras_codificadas_20)\n",
    "print(resultado_20)"
   ]
  },
  {
   "cell_type": "code",
   "execution_count": 175,
   "id": "22c055c9",
   "metadata": {},
   "outputs": [
    {
     "name": "stdout",
     "output_type": "stream",
     "text": [
      "negativo\n"
     ]
    }
   ],
   "source": [
    "# se a pontuação estiver mais próxima de 0, o comentário tem sentimento negativo. Em contrapartida, se a pontuação estiver próxima a 1, o comentário é positivo.\n",
    "# foi utilizado um threshold de 0,7 para determinar se a pontuação representa um comentário positivo  ou negativo. Portanto, pontuação maior de 0,7 é positiva e menor que 0,7 é negativa.\n",
    "\n",
    "if resultado_1 >= 0.7:\n",
    "    print('positivo')\n",
    "else:\n",
    "    print('negativo')"
   ]
  },
  {
   "cell_type": "code",
   "execution_count": 176,
   "id": "8b03a46f",
   "metadata": {},
   "outputs": [
    {
     "name": "stdout",
     "output_type": "stream",
     "text": [
      "negativo\n"
     ]
    }
   ],
   "source": [
    "if resultado_2 >= 0.7:\n",
    "    print('positivo')\n",
    "else:\n",
    "    print('negativo')"
   ]
  },
  {
   "cell_type": "code",
   "execution_count": 177,
   "id": "fc30a706",
   "metadata": {},
   "outputs": [
    {
     "name": "stdout",
     "output_type": "stream",
     "text": [
      "negativo\n"
     ]
    }
   ],
   "source": [
    "if resultado_3 >= 0.7:\n",
    "    print('positivo')\n",
    "else:\n",
    "    print('negativo')"
   ]
  },
  {
   "cell_type": "code",
   "execution_count": 178,
   "id": "e41c17de",
   "metadata": {},
   "outputs": [
    {
     "name": "stdout",
     "output_type": "stream",
     "text": [
      "negativo\n"
     ]
    }
   ],
   "source": [
    "if resultado_4 >= 0.7:\n",
    "    print('positivo')\n",
    "else:\n",
    "    print('negativo')"
   ]
  },
  {
   "cell_type": "code",
   "execution_count": 179,
   "id": "a04da49e",
   "metadata": {},
   "outputs": [
    {
     "name": "stdout",
     "output_type": "stream",
     "text": [
      "positivo\n"
     ]
    }
   ],
   "source": [
    "if resultado_5 >= 0.7:\n",
    "    print('positivo')\n",
    "else:\n",
    "    print('negativo')"
   ]
  },
  {
   "cell_type": "code",
   "execution_count": 180,
   "id": "b7fa716b",
   "metadata": {},
   "outputs": [
    {
     "name": "stdout",
     "output_type": "stream",
     "text": [
      "negativo\n"
     ]
    }
   ],
   "source": [
    "if resultado_6 >= 0.7:\n",
    "    print('positivo')\n",
    "else:\n",
    "    print('negativo')"
   ]
  },
  {
   "cell_type": "code",
   "execution_count": 181,
   "id": "87e3fe36",
   "metadata": {},
   "outputs": [
    {
     "name": "stdout",
     "output_type": "stream",
     "text": [
      "negativo\n"
     ]
    }
   ],
   "source": [
    "if resultado_7 >= 0.7:\n",
    "    print('positivo')\n",
    "else:\n",
    "    print('negativo')"
   ]
  },
  {
   "cell_type": "code",
   "execution_count": 182,
   "id": "5a398230",
   "metadata": {},
   "outputs": [
    {
     "name": "stdout",
     "output_type": "stream",
     "text": [
      "negativo\n"
     ]
    }
   ],
   "source": [
    "if resultado_8 >= 0.7:\n",
    "    print('positivo')\n",
    "else:\n",
    "    print('negativo')"
   ]
  },
  {
   "cell_type": "code",
   "execution_count": 183,
   "id": "d5c76cc4",
   "metadata": {},
   "outputs": [
    {
     "name": "stdout",
     "output_type": "stream",
     "text": [
      "negativo\n"
     ]
    }
   ],
   "source": [
    "if resultado_9 >= 0.7:\n",
    "    print('positivo')\n",
    "else:\n",
    "    print('negativo')"
   ]
  },
  {
   "cell_type": "code",
   "execution_count": 184,
   "id": "e633b88e",
   "metadata": {},
   "outputs": [
    {
     "name": "stdout",
     "output_type": "stream",
     "text": [
      "negativo\n"
     ]
    }
   ],
   "source": [
    "if resultado_10 >= 0.7:\n",
    "    print('positivo')\n",
    "else:\n",
    "    print('negativo')"
   ]
  },
  {
   "cell_type": "code",
   "execution_count": 185,
   "id": "8a1d772b",
   "metadata": {},
   "outputs": [
    {
     "name": "stdout",
     "output_type": "stream",
     "text": [
      "negativo\n"
     ]
    }
   ],
   "source": [
    "if resultado_11 >= 0.7:\n",
    "    print('positivo')\n",
    "else:\n",
    "    print('negativo')"
   ]
  },
  {
   "cell_type": "code",
   "execution_count": 186,
   "id": "abe2b5d3",
   "metadata": {},
   "outputs": [
    {
     "name": "stdout",
     "output_type": "stream",
     "text": [
      "negativo\n"
     ]
    }
   ],
   "source": [
    "if resultado_12 >= 0.7:\n",
    "    print('positivo')\n",
    "else:\n",
    "    print('negativo')"
   ]
  },
  {
   "cell_type": "code",
   "execution_count": 187,
   "id": "5f6531cd",
   "metadata": {},
   "outputs": [
    {
     "name": "stdout",
     "output_type": "stream",
     "text": [
      "negativo\n"
     ]
    }
   ],
   "source": [
    "if resultado_13 >= 0.7:\n",
    "    print('positivo')\n",
    "else:\n",
    "    print('negativo')"
   ]
  },
  {
   "cell_type": "code",
   "execution_count": 188,
   "id": "2b382f29",
   "metadata": {},
   "outputs": [
    {
     "name": "stdout",
     "output_type": "stream",
     "text": [
      "negativo\n"
     ]
    }
   ],
   "source": [
    "if resultado_14 >= 0.7:\n",
    "    print('positivo')\n",
    "else:\n",
    "    print('negativo')"
   ]
  },
  {
   "cell_type": "code",
   "execution_count": 189,
   "id": "5178e673",
   "metadata": {},
   "outputs": [
    {
     "name": "stdout",
     "output_type": "stream",
     "text": [
      "negativo\n"
     ]
    }
   ],
   "source": [
    "if resultado_15 >= 0.7:\n",
    "    print('positivo')\n",
    "else:\n",
    "    print('negativo')"
   ]
  },
  {
   "cell_type": "code",
   "execution_count": 190,
   "id": "cea7cda5",
   "metadata": {},
   "outputs": [
    {
     "name": "stdout",
     "output_type": "stream",
     "text": [
      "negativo\n"
     ]
    }
   ],
   "source": [
    "if resultado_16 >= 0.7:\n",
    "    print('positivo')\n",
    "else:\n",
    "    print('negativo')"
   ]
  },
  {
   "cell_type": "code",
   "execution_count": 191,
   "id": "15dcdb9d",
   "metadata": {},
   "outputs": [
    {
     "name": "stdout",
     "output_type": "stream",
     "text": [
      "negativo\n"
     ]
    }
   ],
   "source": [
    "if resultado_17 >= 0.7:\n",
    "    print('positivo')\n",
    "else:\n",
    "    print('negativo')"
   ]
  },
  {
   "cell_type": "code",
   "execution_count": 192,
   "id": "20803caf",
   "metadata": {},
   "outputs": [
    {
     "name": "stdout",
     "output_type": "stream",
     "text": [
      "negativo\n"
     ]
    }
   ],
   "source": [
    "if resultado_18 >= 0.7:\n",
    "    print('positivo')\n",
    "else:\n",
    "    print('negativo')"
   ]
  },
  {
   "cell_type": "code",
   "execution_count": 193,
   "id": "b3290387",
   "metadata": {},
   "outputs": [
    {
     "name": "stdout",
     "output_type": "stream",
     "text": [
      "negativo\n"
     ]
    }
   ],
   "source": [
    "if resultado_19 >= 0.7:\n",
    "    print('positivo')\n",
    "else:\n",
    "    print('negativo')"
   ]
  },
  {
   "cell_type": "code",
   "execution_count": 194,
   "id": "68c79cb2",
   "metadata": {},
   "outputs": [
    {
     "name": "stdout",
     "output_type": "stream",
     "text": [
      "negativo\n"
     ]
    }
   ],
   "source": [
    "if resultado_20 >= 0.7:\n",
    "    print('positivo')\n",
    "else:\n",
    "    print('negativo')"
   ]
  },
  {
   "cell_type": "code",
   "execution_count": null,
   "id": "bd46bbb9",
   "metadata": {},
   "outputs": [],
   "source": []
  },
  {
   "cell_type": "code",
   "execution_count": null,
   "id": "e51a102c",
   "metadata": {},
   "outputs": [],
   "source": []
  }
 ],
 "metadata": {
  "kernelspec": {
   "display_name": "Python 3 (ipykernel)",
   "language": "python",
   "name": "python3"
  },
  "language_info": {
   "codemirror_mode": {
    "name": "ipython",
    "version": 3
   },
   "file_extension": ".py",
   "mimetype": "text/x-python",
   "name": "python",
   "nbconvert_exporter": "python",
   "pygments_lexer": "ipython3",
   "version": "3.9.7"
  }
 },
 "nbformat": 4,
 "nbformat_minor": 5
}
